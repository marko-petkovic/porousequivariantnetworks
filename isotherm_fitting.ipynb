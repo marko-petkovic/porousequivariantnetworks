{
 "cells": [
  {
   "cell_type": "code",
   "execution_count": 1,
   "id": "c078e0a0-9ba1-48af-8228-adf940ad4d89",
   "metadata": {},
   "outputs": [],
   "source": [
    "import os \n",
    "import sys\n",
    "\n",
    "import numpy as np\n",
    "\n",
    "from tqdm import tqdm\n",
    "\n",
    "import torch\n",
    "import torch.optim as optim\n",
    "import torch.nn as nn\n",
    "import torch.nn.functional as F\n",
    "\n",
    "import re\n",
    "\n",
    "import matplotlib.pyplot as plt\n",
    "\n",
    "sys.path.append(os.getcwd())\n",
    "sys.path.insert(0, \"../porousequivariantnetworks/code/\")\n",
    "sys.path.insert(0, \"../porousequivariantnetworks/\")\n",
    "\n",
    "from models.equivariant_mpnn import MPNNPORE\n",
    "\n",
    "from utils.ZeoliteData import get_zeolite, get_data_pore, get_data_graph, get_data_megnet\n",
    "from utils.dataloading import get_data, get_graph_data"
   ]
  },
  {
   "cell_type": "code",
   "execution_count": 2,
   "id": "783128ab-893d-437a-b0ed-58f80414d401",
   "metadata": {},
   "outputs": [],
   "source": [
    "data = get_zeolite('MOR')\n",
    "\n",
    "ref = data['ref'] # reflections\n",
    "tra = data['tra'] # translations\n",
    "l = data['l'] # scale of the unit cell\n",
    "\n",
    "# specific for MOR\n",
    "_, _, X, A, d, X_pore, A_pore, d_pore, pore = get_data(l)\n",
    "\n",
    "edges, idx1, idx2, idx2_oh = get_graph_data(A, d)\n"
   ]
  },
  {
   "cell_type": "code",
   "execution_count": 3,
   "id": "837c07de-efff-4cdb-8166-1b7b07dcb6d9",
   "metadata": {},
   "outputs": [],
   "source": [
    "edges_sp, idx1_sp, idx2_sp, idx2_oh_sp = get_graph_data(A_pore, d_pore)\n",
    "edges_ps, idx1_ps, idx2_ps, idx2_oh_ps = get_graph_data(A_pore.T, d_pore.T)\n"
   ]
  },
  {
   "cell_type": "code",
   "execution_count": 237,
   "id": "06b96dcf-f564-4bf3-a8d0-3718bdcd6bfa",
   "metadata": {},
   "outputs": [],
   "source": [
    "def get_ats(idx):\n",
    "    with open(f'Data_isotherms/isomors/MOR_{idx}.cif') as f:\n",
    "        lines = f.readlines()\n",
    "    lines = [i.strip().split() for i in lines]\n",
    "    lines = [i for i in lines if len(i)>1]\n",
    "\n",
    "\n",
    "    at_pos = [i[1:5] for i in lines if i[1] in ['Si', 'Al']]\n",
    "    atom = [1 if i[0]=='Al' else 0 for i in at_pos]\n",
    "    return atom\n",
    "\n",
    "def get_iso(idx):\n",
    "    with open(f'Data_isotherms/curves/plot_data_{idx}') as f:\n",
    "        lines = f.read()\n",
    "        #p = re.findall(r'p\\[(?:[1-6])\\]=(-?\\d+(?:\\.\\d+)?)', lines)\n",
    "        p = re.findall(r'p\\[(?:[1-6])\\]=(-?\\d+(?:\\.\\d+)?(?:e[+-]?\\d+)?)', lines)\n",
    "\n",
    "    p = [float(i) for i in p]\n",
    "    x = 10**np.arange(1,7,0.01)\n",
    "    true_p = langmuirfreudlich(np.array(p)[None], x)\n",
    "\n",
    "    return p\n",
    "\n",
    "def langmuirfreudlich(p, x):\n",
    "    return p[:,0]*p[:,1]*x**p[:,2]/(1.0+p[:,1]*x**p[:,2])+p[:,3]*p[:,4]*x**p[:,5]/(1.0+p[:,4]*x**p[:,5])\n",
    "    "
   ]
  },
  {
   "cell_type": "code",
   "execution_count": 238,
   "id": "29505776-a793-4967-bb2b-a6c96eff8269",
   "metadata": {},
   "outputs": [
    {
     "name": "stderr",
     "output_type": "stream",
     "text": [
      "100%|██████████████████████████████████████████████████████████████████████████████████████████████████████████████████| 989/989 [00:00<00:00, 1465.17it/s]\n"
     ]
    }
   ],
   "source": [
    "n = 989\n",
    "\n",
    "atoms = np.zeros((n, 48))\n",
    "iso_params = np.zeros((n, 6))\n",
    "\n",
    "\n",
    "for zeo in tqdm(range(n)):\n",
    "\n",
    "    atoms[zeo] = get_ats(zeo)\n",
    "    iso_params[zeo] = get_iso(zeo)"
   ]
  },
  {
   "cell_type": "code",
   "execution_count": 239,
   "id": "54396b26-97be-47a7-a221-4e9fc0aba45e",
   "metadata": {},
   "outputs": [
    {
     "data": {
      "text/plain": [
       "array([2.74420e+00, 3.63862e-03, 5.66549e-01, 9.35182e+00, 8.62976e-13,\n",
       "       1.50196e+00])"
      ]
     },
     "execution_count": 239,
     "metadata": {},
     "output_type": "execute_result"
    }
   ],
   "source": [
    "iso_params[961]"
   ]
  },
  {
   "cell_type": "code",
   "execution_count": 240,
   "id": "5d5795cc-9669-4086-ade2-8fc805263c86",
   "metadata": {},
   "outputs": [],
   "source": [
    "a = langmuirfreudlich(trainloader.dataset.y, torch.tensor(np.tile((10**np.arange(1,8,7/100))[:, None], (1,904)))).T"
   ]
  },
  {
   "cell_type": "code",
   "execution_count": 241,
   "id": "6dbd8581-da8f-4fd1-b1fc-16d2db66f20e",
   "metadata": {},
   "outputs": [
    {
     "data": {
      "text/plain": [
       "tensor(0)"
      ]
     },
     "execution_count": 241,
     "metadata": {},
     "output_type": "execute_result"
    }
   ],
   "source": [
    "np.isnan(a).sum()"
   ]
  },
  {
   "cell_type": "code",
   "execution_count": 242,
   "id": "373c5f53-807e-456e-b7d9-14570743e3a7",
   "metadata": {},
   "outputs": [
    {
     "data": {
      "image/png": "[encoded data removed]",
      "text/plain": [
       "<Figure size 640x480 with 1 Axes>"
      ]
     },
     "metadata": {},
     "output_type": "display_data"
    }
   ],
   "source": [
    "plt.hist(atoms.sum(1), bins=np.arange(0, 15));"
   ]
  },
  {
   "cell_type": "code",
   "execution_count": 243,
   "id": "a39efa62-cbf1-4bac-8e4a-9a970a36e389",
   "metadata": {},
   "outputs": [],
   "source": [
    "def get_pred_points(steps):\n",
    "\n",
    "    return 10**np.arange(1,7+1/steps,1/steps)\n",
    "    "
   ]
  },
  {
   "cell_type": "code",
   "execution_count": 259,
   "id": "112f79de-aafe-450e-b0c4-33d82cbbbc2e",
   "metadata": {},
   "outputs": [],
   "source": [
    "class calculate_distance(nn.Module):\n",
    "\n",
    "    def __init__(self, n_points=100):\n",
    "        super().__init__()\n",
    "\n",
    "        self.points = torch.tensor(10**np.arange(1,7+6/n_points,6/n_points))[:, None]\n",
    "        self.n_points = n_points\n",
    "        self.relu = nn.ReLU()\n",
    "        \n",
    "    def forward(self, param_p_hat, param_p):\n",
    "        # add channels dimension\n",
    "        param_p_hat = self.relu(param_p_hat)\n",
    "        param_p_hat = param_p_hat[:,None]\n",
    "\n",
    "        \n",
    "        p_hat = F.interpolate(param_p_hat, self.n_points+1, align_corners=True, mode='linear').squeeze()\n",
    "        points = self.points.repeat(1, param_p_hat.shape[0]).to('cuda')\n",
    "        p = langmuirfreudlich(param_p, points).T\n",
    "\n",
    "        loss = ((p_hat - p)**2).mean(1)\n",
    "        return loss\n",
    "        \n",
    "\n",
    "        \n",
    "    "
   ]
  },
  {
   "cell_type": "code",
   "execution_count": 263,
   "id": "7711e9e6-721b-4865-80c0-5c2ff7096b44",
   "metadata": {},
   "outputs": [],
   "source": [
    "pred_points = get_pred_points(10)"
   ]
  },
  {
   "cell_type": "code",
   "execution_count": 264,
   "id": "c96372e4-4ae8-4107-b915-4ecb137fd05e",
   "metadata": {},
   "outputs": [
    {
     "data": {
      "text/plain": [
       "61"
      ]
     },
     "execution_count": 264,
     "metadata": {},
     "output_type": "execute_result"
    }
   ],
   "source": [
    "len(pred_points)"
   ]
  },
  {
   "cell_type": "code",
   "execution_count": 265,
   "id": "3374e59f-39ae-4685-8b10-c8e1429e2169",
   "metadata": {},
   "outputs": [],
   "source": [
    "mpnn = MPNNPORE(idx1.to('cuda'), idx2.to('cuda'), idx2_oh.to('cuda'), X, X_pore, ref, tra,\n",
    "                idx1_sp.to('cuda'), idx2_sp.to('cuda'), idx2_oh_sp.to('cuda'), \n",
    "                idx1_ps.to('cuda'), idx2_ps.to('cuda'), idx2_oh_ps.to('cuda'),\n",
    "                hid_size=[12]*6, site_emb_size=12, edge_emb_size=12, mlp_size=24,\n",
    "                centers=10, mx_d=6, width=1, pool='sum', \n",
    "                out_size=len(pred_points)).to('cuda')"
   ]
  },
  {
   "cell_type": "code",
   "execution_count": 266,
   "id": "5776037b-0647-4a32-91ae-fff9fad44a57",
   "metadata": {},
   "outputs": [],
   "source": [
    "_, testloader, trainloader = get_data_pore(atoms, iso_params, edges, pore, edges_sp, edges_ps, bs=32, sub_lim=12, p=1)"
   ]
  },
  {
   "cell_type": "code",
   "execution_count": null,
   "id": "f67b07a4-c0ab-47b3-92a1-15eaf670d65d",
   "metadata": {},
   "outputs": [],
   "source": []
  },
  {
   "cell_type": "code",
   "execution_count": null,
   "id": "bcf1965d-d011-4813-beb1-edf0b45cb31b",
   "metadata": {},
   "outputs": [
    {
     "name": "stderr",
     "output_type": "stream",
     "text": [
      " 65%|███████████████████████████████████████████████████████▎                             | 13/20 [02:15<01:12, 10.40s/epoch, loss: 0.575 test loss: 0.516]"
     ]
    }
   ],
   "source": [
    "tr_loss, te_loss = mpnn.fit(trainloader, testloader, epochs=20, crit=calculate_distance, crit_kwargs={'n_points':500}, opt=optim.Adam, opt_kwargs={'lr':0.001}, scale_loss=False)"
   ]
  },
  {
   "cell_type": "code",
   "execution_count": null,
   "id": "dbb58603-9949-45dd-9c69-4626913174ca",
   "metadata": {},
   "outputs": [],
   "source": [
    "def plot_true_pred(iso_params, atoms, pred_points, fig=None, ax=None):\n",
    "\n",
    "    atoms = atoms.cuda().float()\n",
    "    iso_params = iso_params.numpy()\n",
    "\n",
    "    if fig is None:\n",
    "        fig, ax = plt.subplots()\n",
    "\n",
    "    x = 10**np.arange(1,7.01,0.01)\n",
    "    true_p = langmuirfreudlich(iso_params, x)\n",
    "    ax.plot(x, true_p)\n",
    "\n",
    "    with torch.no_grad():\n",
    "        mpnn.eval()\n",
    "        p_hat = mpnn.forward(atoms.repeat(2,1,1), edges.cuda()[None].repeat(2,1,1), torch.tensor(pore).cuda().float()[None].repeat(2,1,1), edges_sp.cuda()[None].repeat(2,1,1), edges_ps.cuda()[None].repeat(2,1,1))[0].cpu()\n",
    "        p_hat = nn.ReLU()(p_hat)\n",
    "\n",
    "    ax.plot(pred_points, p_hat)\n",
    "\n",
    "    ax.set_xscale('log')\n",
    "    return fig, ax"
   ]
  },
  {
   "cell_type": "code",
   "execution_count": null,
   "id": "5167e056-dc11-443d-a225-b76eb0a5ee25",
   "metadata": {},
   "outputs": [],
   "source": [
    "plot_true_pred(testloader.dataset.y[[12]], testloader.dataset.X[[12]], pred_points)"
   ]
  },
  {
   "cell_type": "code",
   "execution_count": null,
   "id": "c5563a8c-4da1-4a68-b3f1-0573b30a58ac",
   "metadata": {},
   "outputs": [],
   "source": [
    "plot_true_pred(testloader.dataset.y[[0]], testloader.dataset.X[[0]], pred_points)"
   ]
  },
  {
   "cell_type": "code",
   "execution_count": null,
   "id": "00a1bcdb-94a7-4be0-9ada-598270a6adec",
   "metadata": {},
   "outputs": [],
   "source": [
    "plot_true_pred(testloader.dataset.y[[1]], testloader.dataset.X[[1]], pred_points)"
   ]
  },
  {
   "cell_type": "code",
   "execution_count": 217,
   "id": "8f5e7956-0dd3-4ca5-ade3-e9735775ebed",
   "metadata": {},
   "outputs": [
    {
     "data": {
      "image/png": "[encoded data removed]",
      "text/plain": [
       "<Figure size 640x480 with 1 Axes>"
      ]
     },
     "metadata": {},
     "output_type": "display_data"
    }
   ],
   "source": [
    "fig, ax = None, None\n",
    "for i in range(len(trainloader.dataset)):\n",
    "    fig, ax = plot_true_pred(trainloader.dataset.y[[i]], trainloader.dataset.X[[i]], pred_points, fig, ax)"
   ]
  },
  {
   "cell_type": "code",
   "execution_count": null,
   "id": "141454e1-5abf-4b3a-9761-896fab13b970",
   "metadata": {},
   "outputs": [],
   "source": []
  }
 ],
 "metadata": {
  "kernelspec": {
   "display_name": "Python 3 (ipykernel)",
   "language": "python",
   "name": "python3"
  },
  "language_info": {
   "codemirror_mode": {
    "name": "ipython",
    "version": 3
   },
   "file_extension": ".py",
   "mimetype": "text/x-python",
   "name": "python",
   "nbconvert_exporter": "python",
   "pygments_lexer": "ipython3",
   "version": "3.11.3"
  }
 },
 "nbformat": 4,
 "nbformat_minor": 5
}
