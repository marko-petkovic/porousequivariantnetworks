{
 "cells": [
  {
   "cell_type": "code",
   "execution_count": 20,
   "id": "c078e0a0-9ba1-48af-8228-adf940ad4d89",
   "metadata": {},
   "outputs": [],
   "source": [
    "import os \n",
    "import sys\n",
    "\n",
    "import numpy as np\n",
    "\n",
    "import torch\n",
    "import re\n",
    "\n",
    "import matplotlib.pyplot as plt\n",
    "\n",
    "sys.path.append(os.getcwd())\n",
    "sys.path.insert(0, \"../porousequivariantnetworks/code/\")\n",
    "sys.path.insert(0, \"../porousequivariantnetworks/\")\n",
    "\n",
    "from models import equivariant_mpnn\n",
    "\n",
    "from utils.ZeoliteData import get_zeolite, get_data_pore, get_data_graph, get_data_megnet\n",
    "from utils.dataloading import get_data, get_graph_data"
   ]
  },
  {
   "cell_type": "code",
   "execution_count": 2,
   "id": "783128ab-893d-437a-b0ed-58f80414d401",
   "metadata": {},
   "outputs": [],
   "source": [
    "data = get_zeolite('MOR')\n",
    "\n",
    "ref = data['ref'] # reflections\n",
    "tra = data['tra'] # translations\n",
    "l = data['l'] # scale of the unit cell\n",
    "\n",
    "# specific for MOR\n",
    "_, _, X, A, d, X_pore, A_pore, d_pore, pore = get_data(l)\n",
    "\n",
    "edges, idx1, idx2, idx2_oh = get_graph_data(A, d)\n"
   ]
  },
  {
   "cell_type": "code",
   "execution_count": 3,
   "id": "837c07de-efff-4cdb-8166-1b7b07dcb6d9",
   "metadata": {},
   "outputs": [],
   "source": [
    "edges_sp, idx1_sp, idx2_sp, idx2_oh_sp = get_graph_data(A_pore, d_pore)\n",
    "edges_ps, idx1_ps, idx2_ps, idx2_oh_ps = get_graph_data(A_pore.T, d_pore.T)\n"
   ]
  },
  {
   "cell_type": "code",
   "execution_count": 39,
   "id": "06b96dcf-f564-4bf3-a8d0-3718bdcd6bfa",
   "metadata": {},
   "outputs": [],
   "source": [
    "def get_ats(idx):\n",
    "    with open(f'Data_isotherms/isomors/MOR_{idx}.cif') as f:\n",
    "        lines = f.readlines()\n",
    "    lines = [i.strip().split() for i in lines]\n",
    "    lines = [i for i in lines if len(i)>1]\n",
    "\n",
    "\n",
    "    at_pos = [i[1:5] for i in lines if i[1] in ['Si', 'Al']]\n",
    "    atom = [1 if i[0]=='Al' else 0 for i in at_pos]\n",
    "    return atom\n",
    "\n",
    "def get_iso(idx):\n",
    "    with open(f'Data_isotherms/curves/plot_data_{idx}') as f:\n",
    "        lines = f.read()\n",
    "        p = re.findall(r'p\\[(?:[1-6])\\]=(-?\\d+(?:\\.\\d+)?)', lines)\n",
    "\n",
    "    p = [float(i) for i in p]\n",
    "    return p"
   ]
  },
  {
   "cell_type": "code",
   "execution_count": 32,
   "id": "38e042ee-df35-495b-adf6-753ca632e81e",
   "metadata": {},
   "outputs": [],
   "source": [
    "lines = get_iso(11)"
   ]
  },
  {
   "cell_type": "code",
   "execution_count": 38,
   "id": "344cd15c-8f0a-440f-8da3-af11e832b1e3",
   "metadata": {},
   "outputs": [
    {
     "data": {
      "text/plain": [
       "['2.94833', '0.00107667', '0.525952', '0.674335', '3.25413', '1.24765']"
      ]
     },
     "execution_count": 38,
     "metadata": {},
     "output_type": "execute_result"
    }
   ],
   "source": [
    "re.findall(r'p\\[(?:[1-6])\\]=(-?\\d+(?:\\.\\d+)?)', lines)"
   ]
  },
  {
   "cell_type": "code",
   "execution_count": 29,
   "id": "a3823988-98e7-4eea-ace2-c98941469c6c",
   "metadata": {},
   "outputs": [
    {
     "name": "stdout",
     "output_type": "stream",
     "text": [
      "[]\n",
      "[]\n",
      "[]\n",
      "[]\n",
      "[]\n",
      "[]\n",
      "[]\n",
      "[]\n",
      "[]\n",
      "[]\n",
      "[]\n",
      "[]\n",
      "[]\n",
      "[]\n",
      "[]\n",
      "[]\n",
      "[]\n",
      "[]\n",
      "[]\n",
      "[]\n",
      "[]\n",
      "[]\n",
      "[]\n",
      "[]\n",
      "[]\n",
      "[]\n",
      "[]\n",
      "[]\n",
      "[]\n",
      "[]\n",
      "[]\n",
      "[]\n",
      "[]\n",
      "['p[1]']\n",
      "['p[2]']\n",
      "['p[3]']\n",
      "['p[4]']\n",
      "['p[5]']\n",
      "['p[6]']\n",
      "[]\n",
      "[]\n",
      "[]\n",
      "[]\n",
      "[]\n",
      "['p[1]']\n",
      "[]\n"
     ]
    }
   ],
   "source": [
    "for line in lines:\n",
    "    print(re.findall('\\Ap\\[[1-6]\\]', line))"
   ]
  },
  {
   "cell_type": "code",
   "execution_count": 19,
   "id": "1fd868e5-4961-469d-938d-0b659dad5100",
   "metadata": {},
   "outputs": [
    {
     "data": {
      "text/plain": [
       "['p[1]=2.94833\\n',\n",
       " 'p[2]=0.00107667\\n',\n",
       " 'p[3]=0.525952\\n',\n",
       " 'p[4]=0.674335\\n',\n",
       " 'p[5]=3.25413e-05\\n',\n",
       " 'p[6]=1.24765\\n',\n",
       " 'p[7]=-0.2158\\n',\n",
       " 'p[8]=2.53221\\n',\n",
       " 'p[9]=-2.24196\\n',\n",
       " 'plot \\\\\\n',\n",
       " \"p[1]*p[2]*x**p[3]/(1.0+p[2]*x**p[3])+p[4]*p[5]*x**p[6]/(1.0+p[5]*x**p[6]) title 'fit f(x)' with li lw 2,\\\\\\n\"]"
      ]
     },
     "execution_count": 19,
     "metadata": {},
     "output_type": "execute_result"
    }
   ],
   "source": [
    "lines = [i for i in lines if i.startswith('p')]\n",
    "lines"
   ]
  },
  {
   "cell_type": "code",
   "execution_count": 6,
   "id": "29505776-a793-4967-bb2b-a6c96eff8269",
   "metadata": {},
   "outputs": [],
   "source": [
    "n = 989\n",
    "\n",
    "atoms = np.zeros((n, 48))\n",
    "iso_params = np.zeros((n, 6))\n",
    "\n",
    "\n",
    "for zeo in range(n):\n",
    "\n",
    "    atoms[zeo] = get_ats(zeo)\n",
    "    "
   ]
  },
  {
   "cell_type": "code",
   "execution_count": 11,
   "id": "373c5f53-807e-456e-b7d9-14570743e3a7",
   "metadata": {},
   "outputs": [
    {
     "data": {
      "image/png": "[encoded data removed]",
      "text/plain": [
       "<Figure size 640x480 with 1 Axes>"
      ]
     },
     "metadata": {},
     "output_type": "display_data"
    }
   ],
   "source": [
    "plt.hist(atoms.sum(1), bins=np.arange(0, 15));"
   ]
  },
  {
   "cell_type": "code",
   "execution_count": null,
   "id": "3374e59f-39ae-4685-8b10-c8e1429e2169",
   "metadata": {},
   "outputs": [],
   "source": []
  }
 ],
 "metadata": {
  "kernelspec": {
   "display_name": "Python 3 (ipykernel)",
   "language": "python",
   "name": "python3"
  },
  "language_info": {
   "codemirror_mode": {
    "name": "ipython",
    "version": 3
   },
   "file_extension": ".py",
   "mimetype": "text/x-python",
   "name": "python",
   "nbconvert_exporter": "python",
   "pygments_lexer": "ipython3",
   "version": "3.11.3"
  }
 },
 "nbformat": 4,
 "nbformat_minor": 5
}
