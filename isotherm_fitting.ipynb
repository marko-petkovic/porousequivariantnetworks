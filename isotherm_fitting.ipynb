{
 "cells": [
  {
   "cell_type": "code",
   "execution_count": 91,
   "id": "c078e0a0-9ba1-48af-8228-adf940ad4d89",
   "metadata": {},
   "outputs": [],
   "source": [
    "import os \n",
    "import sys\n",
    "\n",
    "import numpy as np\n",
    "\n",
    "from tqdm import tqdm\n",
    "\n",
    "import torch\n",
    "import torch.nn as nn\n",
    "import torch.nn.functional as F\n",
    "\n",
    "import re\n",
    "\n",
    "import matplotlib.pyplot as plt\n",
    "\n",
    "sys.path.append(os.getcwd())\n",
    "sys.path.insert(0, \"../porousequivariantnetworks/code/\")\n",
    "sys.path.insert(0, \"../porousequivariantnetworks/\")\n",
    "\n",
    "from models.equivariant_mpnn import MPNNPORE\n",
    "\n",
    "from utils.ZeoliteData import get_zeolite, get_data_pore, get_data_graph, get_data_megnet\n",
    "from utils.dataloading import get_data, get_graph_data"
   ]
  },
  {
   "cell_type": "code",
   "execution_count": 2,
   "id": "783128ab-893d-437a-b0ed-58f80414d401",
   "metadata": {},
   "outputs": [],
   "source": [
    "data = get_zeolite('MOR')\n",
    "\n",
    "ref = data['ref'] # reflections\n",
    "tra = data['tra'] # translations\n",
    "l = data['l'] # scale of the unit cell\n",
    "\n",
    "# specific for MOR\n",
    "_, _, X, A, d, X_pore, A_pore, d_pore, pore = get_data(l)\n",
    "\n",
    "edges, idx1, idx2, idx2_oh = get_graph_data(A, d)\n"
   ]
  },
  {
   "cell_type": "code",
   "execution_count": 3,
   "id": "837c07de-efff-4cdb-8166-1b7b07dcb6d9",
   "metadata": {},
   "outputs": [],
   "source": [
    "edges_sp, idx1_sp, idx2_sp, idx2_oh_sp = get_graph_data(A_pore, d_pore)\n",
    "edges_ps, idx1_ps, idx2_ps, idx2_oh_ps = get_graph_data(A_pore.T, d_pore.T)\n"
   ]
  },
  {
   "cell_type": "code",
   "execution_count": 48,
   "id": "06b96dcf-f564-4bf3-a8d0-3718bdcd6bfa",
   "metadata": {},
   "outputs": [],
   "source": [
    "def get_ats(idx):\n",
    "    with open(f'Data_isotherms/isomors/MOR_{idx}.cif') as f:\n",
    "        lines = f.readlines()\n",
    "    lines = [i.strip().split() for i in lines]\n",
    "    lines = [i for i in lines if len(i)>1]\n",
    "\n",
    "\n",
    "    at_pos = [i[1:5] for i in lines if i[1] in ['Si', 'Al']]\n",
    "    atom = [1 if i[0]=='Al' else 0 for i in at_pos]\n",
    "    return atom\n",
    "\n",
    "def get_iso(idx):\n",
    "    with open(f'Data_isotherms/curves/plot_data_{idx}') as f:\n",
    "        lines = f.read()\n",
    "        p = re.findall(r'p\\[(?:[1-6])\\]=(-?\\d+(?:\\.\\d+)?)', lines)\n",
    "\n",
    "    p = [float(i) for i in p]\n",
    "    return p\n",
    "\n",
    "def langmuirfreudlich(p, x):\n",
    "    return p[:,0]*p[:,1]*x**p[:,2]/(1.0+p[:,1]*x**p[:,2])+p[:,3]*p[:,4]*x**p[:,5]/(1.0+p[:,4]*x**p[:,5])\n",
    "    "
   ]
  },
  {
   "cell_type": "code",
   "execution_count": 45,
   "id": "29505776-a793-4967-bb2b-a6c96eff8269",
   "metadata": {},
   "outputs": [
    {
     "name": "stderr",
     "output_type": "stream",
     "text": [
      "100%|██████████████████████████████████████████████████████████████████████████████████████████████████████████████████| 989/989 [00:00<00:00, 2981.93it/s]\n"
     ]
    }
   ],
   "source": [
    "n = 989\n",
    "\n",
    "atoms = np.zeros((n, 48))\n",
    "iso_params = np.zeros((n, 6))\n",
    "\n",
    "\n",
    "for zeo in tqdm(range(n)):\n",
    "\n",
    "    atoms[zeo] = get_ats(zeo)\n",
    "    iso_params[zeo] = get_iso(zeo)"
   ]
  },
  {
   "cell_type": "code",
   "execution_count": 88,
   "id": "0617cf97-89a2-48cd-906b-06b99a00aef6",
   "metadata": {},
   "outputs": [
    {
     "data": {
      "text/plain": [
       "array([0.        , 2.11965359, 2.32771609, 2.41968125, 2.47328086,\n",
       "       2.5089744 , 2.53471545, 2.55429546, 2.56976999, 2.58235778,\n",
       "       2.59283084, 2.60170373, 2.60933369, 2.61597702, 2.62182278,\n",
       "       2.62701371, 2.63165972, 2.63584695, 2.63964393, 2.64310588,\n",
       "       2.64627789, 2.64919712, 2.65189449, 2.65439598, 2.65672359,\n",
       "       2.65889605, 2.66092944, 2.66283764, 2.66463271, 2.66632516,\n",
       "       2.66792422, 2.66943802, 2.67087374, 2.67223776, 2.67353577,\n",
       "       2.67477286, 2.67595359, 2.67708208, 2.67816202, 2.67919679,\n",
       "       2.68018943, 2.68114271, 2.68205915, 2.68294108, 2.6837906 ,\n",
       "       2.68460967, 2.68540005, 2.68616341, 2.68690126, 2.687615  ,\n",
       "       2.68830594, 2.68897528, 2.68962414, 2.69025356, 2.69086451,\n",
       "       2.6914579 , 2.69203458, 2.69259533, 2.69314089, 2.69367197,\n",
       "       2.6941892 , 2.6946932 , 2.69518454, 2.69566377, 2.6961314 ,\n",
       "       2.6965879 , 2.69703374, 2.69746933, 2.69789508, 2.69831139,\n",
       "       2.6987186 , 2.69911707, 2.69950712, 2.69988906, 2.70026319,\n",
       "       2.70062979, 2.70098912, 2.70134144, 2.70168698, 2.70202599,\n",
       "       2.70235867, 2.70268524, 2.7030059 , 2.70332084, 2.70363024,\n",
       "       2.70393428, 2.70423312, 2.70452693, 2.70481585, 2.70510004,\n",
       "       2.70537963, 2.70565477, 2.70592558, 2.70619218, 2.7064547 ,\n",
       "       2.70671325, 2.70696794, 2.70721887, 2.70746616, 2.7077099 ])"
      ]
     },
     "execution_count": 88,
     "metadata": {},
     "output_type": "execute_result"
    }
   ],
   "source": [
    "langmuirfreudlich(iso_params[[0]], np.arange(100))"
   ]
  },
  {
   "cell_type": "code",
   "execution_count": 11,
   "id": "373c5f53-807e-456e-b7d9-14570743e3a7",
   "metadata": {},
   "outputs": [
    {
     "data": {
      "image/png": "[encoded data removed]",
      "text/plain": [
       "<Figure size 640x480 with 1 Axes>"
      ]
     },
     "metadata": {},
     "output_type": "display_data"
    }
   ],
   "source": [
    "plt.hist(atoms.sum(1), bins=np.arange(0, 15));"
   ]
  },
  {
   "cell_type": "code",
   "execution_count": 78,
   "id": "a39efa62-cbf1-4bac-8e4a-9a970a36e389",
   "metadata": {},
   "outputs": [],
   "source": [
    "def get_pred_points(steps):\n",
    "\n",
    "    return 10**np.arange(1,8,1/steps)\n",
    "    "
   ]
  },
  {
   "cell_type": "code",
   "execution_count": 90,
   "id": "112f79de-aafe-450e-b0c4-33d82cbbbc2e",
   "metadata": {},
   "outputs": [],
   "source": [
    "class calculate_distance(nn.Module):\n",
    "\n",
    "    def __init__(self, n_points=100):\n",
    "        super().__init__()\n",
    "\n",
    "        self.points = 10**np.arange(1,8,7/n_points)\n",
    "        self.n_points = n_points\n",
    "        \n",
    "    def forward(self, param_p_hat, param_p):\n",
    "        # add channels dimension\n",
    "        param_p_hat = param_p_hat[:,None]\n",
    "\n",
    "        p_hat = F.interpolate(param_p_hat, self.n_points, align_corners=True, mode='linear').squeeze()\n",
    "        p = langmuirfreudlich(p, self.points)\n",
    "\n",
    "        loss = ((p_hat - p)**2).sum(1)\n",
    "        \n",
    "        return loss\n",
    "        \n",
    "\n",
    "        \n",
    "    "
   ]
  },
  {
   "cell_type": "code",
   "execution_count": 79,
   "id": "7711e9e6-721b-4865-80c0-5c2ff7096b44",
   "metadata": {},
   "outputs": [],
   "source": [
    "pred_points = get_pred_points(5)"
   ]
  },
  {
   "cell_type": "code",
   "execution_count": 95,
   "id": "3374e59f-39ae-4685-8b10-c8e1429e2169",
   "metadata": {},
   "outputs": [],
   "source": [
    "mpnn = MPNNPORE(idx1.to('cuda'), idx2.to('cuda'), idx2_oh.to('cuda'), X, X_pore, ref, tra,\n",
    "                idx1_sp.to('cuda'), idx2_sp.to('cuda'), idx2_oh_sp.to('cuda'), \n",
    "                idx1_ps.to('cuda'), idx2_ps.to('cuda'), idx2_oh_ps.to('cuda'),\n",
    "                hid_size=[8]*6, site_emb_size=8, edge_emb_size=8, mlp_size=24,\n",
    "                centers=10, mx_d=6, width=1, pool='sum', \n",
    "                out_size=len(pred_points)).to('cuda')"
   ]
  },
  {
   "cell_type": "code",
   "execution_count": 63,
   "id": "bcf1965d-d011-4813-beb1-edf0b45cb31b",
   "metadata": {},
   "outputs": [
    {
     "data": {
      "text/plain": [
       "7.0"
      ]
     },
     "execution_count": 63,
     "metadata": {},
     "output_type": "execute_result"
    }
   ],
   "source": [
    "np.log(10000000)/np.log(10)"
   ]
  },
  {
   "cell_type": "code",
   "execution_count": 60,
   "id": "7b85941d-0cdd-4758-b876-16e4dc1c4793",
   "metadata": {},
   "outputs": [
    {
     "data": {
      "text/plain": [
       "177.82794100389228"
      ]
     },
     "execution_count": 60,
     "metadata": {},
     "output_type": "execute_result"
    }
   ],
   "source": [
    "1 * 10**2.25"
   ]
  },
  {
   "cell_type": "code",
   "execution_count": 82,
   "id": "f318e1e9-ae78-4a8d-b8be-5d35065e6ec7",
   "metadata": {},
   "outputs": [],
   "source": [
    "a = 10**np.arange(1,8, 7/100)"
   ]
  },
  {
   "cell_type": "code",
   "execution_count": 83,
   "id": "dbb58603-9949-45dd-9c69-4626913174ca",
   "metadata": {},
   "outputs": [
    {
     "data": {
      "text/plain": [
       "(100,)"
      ]
     },
     "execution_count": 83,
     "metadata": {},
     "output_type": "execute_result"
    }
   ],
   "source": [
    "a.shape"
   ]
  },
  {
   "cell_type": "code",
   "execution_count": null,
   "id": "5167e056-dc11-443d-a225-b76eb0a5ee25",
   "metadata": {},
   "outputs": [],
   "source": []
  }
 ],
 "metadata": {
  "kernelspec": {
   "display_name": "Python 3 (ipykernel)",
   "language": "python",
   "name": "python3"
  },
  "language_info": {
   "codemirror_mode": {
    "name": "ipython",
    "version": 3
   },
   "file_extension": ".py",
   "mimetype": "text/x-python",
   "name": "python",
   "nbconvert_exporter": "python",
   "pygments_lexer": "ipython3",
   "version": "3.11.3"
  }
 },
 "nbformat": 4,
 "nbformat_minor": 5
}
