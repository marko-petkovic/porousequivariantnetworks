{
 "cells": [
  {
   "cell_type": "code",
   "execution_count": 1,
   "id": "f3efd022-431e-4c99-9062-f61ef85fa695",
   "metadata": {},
   "outputs": [],
   "source": [
    "import os\n",
    "import sys\n",
    "sys.path.append(os.getcwd())\n",
    "sys.path.insert(0, \"../porousequivariantnetworks/code/\")\n",
    "sys.path.insert(0, \"../porousequivariantnetworks/\")\n",
    "\n",
    "\n",
    "import numpy as np\n",
    "import pandas as pd\n",
    "import torch\n",
    "import torch.nn as nn\n",
    "import torch.nn.functional as F\n",
    "\n",
    "import torch.optim as optim\n",
    "\n",
    "import matplotlib.pyplot as plt\n",
    "import matplotlib.ticker as tick\n",
    "\n",
    "from tqdm import tqdm\n",
    "\n",
    "\n",
    "from models.equivariant_mpnn import MPNN, MPNNPORE\n",
    "from utils.ZeoliteData import get_zeolite, get_data_pore, get_data_graph, get_data_megnet\n",
    "from utils.dataloading import get_data, get_graph_data\n",
    "\n",
    "#import tueplots \n",
    "\n",
    "from models.megnet import MEGNet\n",
    "from models.cgcnn import CGCNN\n",
    "from models.schnet import SchNet\n",
    "from models.dimenet import DimeNetPlusPlus as DimeNet"
   ]
  },
  {
   "cell_type": "code",
   "execution_count": 2,
   "id": "2c0b07e6-76a3-416a-a251-adc2c7819176",
   "metadata": {},
   "outputs": [],
   "source": [
    "import matplotlib as mpl"
   ]
  },
  {
   "cell_type": "code",
   "execution_count": 3,
   "id": "6ff58c30-008d-4638-b374-ed14dfae9ed3",
   "metadata": {},
   "outputs": [],
   "source": [
    "plt.rc('font', family='serif',)"
   ]
  },
  {
   "cell_type": "code",
   "execution_count": 4,
   "id": "fb7220d8-320b-4679-a4ae-32f014a675be",
   "metadata": {},
   "outputs": [],
   "source": [
    "from matplotlib import rc"
   ]
  },
  {
   "cell_type": "code",
   "execution_count": 5,
   "id": "9a7b3a46-df85-42dc-b5bf-04c4cf4f2ec0",
   "metadata": {},
   "outputs": [],
   "source": [
    "data = get_zeolite('MFI', True)\n",
    "    \n",
    "ref = data['ref'] # reflections\n",
    "tra = data['tra'] # translations\n",
    "l = data['l'] # scale of the unit cell\n",
    "\n",
    "# specific for MOR\n",
    "atoms, hoa, X, A, d, X_pore, A_pore, d_pore, pore = get_data(l, 'MFI')\n",
    "\n",
    "edges, idx1, idx2, idx2_oh = get_graph_data(A, d)\n",
    "edges_sp, idx1_sp, idx2_sp, idx2_oh_sp = get_graph_data(A_pore, d_pore)\n",
    "edges_ps, idx1_ps, idx2_ps, idx2_oh_ps = get_graph_data(A_pore.T, d_pore.T)"
   ]
  },
  {
   "cell_type": "code",
   "execution_count": 6,
   "id": "bbbee257-d114-47fc-8ff9-9f8d0e7580c4",
   "metadata": {},
   "outputs": [],
   "source": [
    "lim=22"
   ]
  },
  {
   "cell_type": "code",
   "execution_count": 7,
   "id": "7d0fabe0-3ea5-44e9-b918-f4c40492c82e",
   "metadata": {},
   "outputs": [],
   "source": [
    "trainX = atoms[atoms.sum(1)<lim].sum(1)[:,None]\n",
    "trainy = hoa[atoms.sum(1)<lim][:,None]\n",
    "testX = atoms[atoms.sum(1)>=lim].sum(1)[:,None]\n",
    "testy = hoa[atoms.sum(1)>=lim][:,None]"
   ]
  },
  {
   "cell_type": "code",
   "execution_count": 9,
   "id": "0c1678ff-9b63-4775-a55b-d397c6857476",
   "metadata": {},
   "outputs": [],
   "source": [
    "from sklearn.linear_model import LinearRegression as LR"
   ]
  },
  {
   "cell_type": "code",
   "execution_count": 10,
   "id": "e30695e3-91b8-40fd-a3a7-7f6780ce64d8",
   "metadata": {},
   "outputs": [
    {
     "data": {
      "text/html": [
       "<style>#sk-container-id-1 {color: black;background-color: white;}#sk-container-id-1 pre{padding: 0;}#sk-container-id-1 div.sk-toggleable {background-color: white;}#sk-container-id-1 label.sk-toggleable__label {cursor: pointer;display: block;width: 100%;margin-bottom: 0;padding: 0.3em;box-sizing: border-box;text-align: center;}#sk-container-id-1 label.sk-toggleable__label-arrow:before {content: \"▸\";float: left;margin-right: 0.25em;color: #696969;}#sk-container-id-1 label.sk-toggleable__label-arrow:hover:before {color: black;}#sk-container-id-1 div.sk-estimator:hover label.sk-toggleable__label-arrow:before {color: black;}#sk-container-id-1 div.sk-toggleable__content {max-height: 0;max-width: 0;overflow: hidden;text-align: left;background-color: #f0f8ff;}#sk-container-id-1 div.sk-toggleable__content pre {margin: 0.2em;color: black;border-radius: 0.25em;background-color: #f0f8ff;}#sk-container-id-1 input.sk-toggleable__control:checked~div.sk-toggleable__content {max-height: 200px;max-width: 100%;overflow: auto;}#sk-container-id-1 input.sk-toggleable__control:checked~label.sk-toggleable__label-arrow:before {content: \"▾\";}#sk-container-id-1 div.sk-estimator input.sk-toggleable__control:checked~label.sk-toggleable__label {background-color: #d4ebff;}#sk-container-id-1 div.sk-label input.sk-toggleable__control:checked~label.sk-toggleable__label {background-color: #d4ebff;}#sk-container-id-1 input.sk-hidden--visually {border: 0;clip: rect(1px 1px 1px 1px);clip: rect(1px, 1px, 1px, 1px);height: 1px;margin: -1px;overflow: hidden;padding: 0;position: absolute;width: 1px;}#sk-container-id-1 div.sk-estimator {font-family: monospace;background-color: #f0f8ff;border: 1px dotted black;border-radius: 0.25em;box-sizing: border-box;margin-bottom: 0.5em;}#sk-container-id-1 div.sk-estimator:hover {background-color: #d4ebff;}#sk-container-id-1 div.sk-parallel-item::after {content: \"\";width: 100%;border-bottom: 1px solid gray;flex-grow: 1;}#sk-container-id-1 div.sk-label:hover label.sk-toggleable__label {background-color: #d4ebff;}#sk-container-id-1 div.sk-serial::before {content: \"\";position: absolute;border-left: 1px solid gray;box-sizing: border-box;top: 0;bottom: 0;left: 50%;z-index: 0;}#sk-container-id-1 div.sk-serial {display: flex;flex-direction: column;align-items: center;background-color: white;padding-right: 0.2em;padding-left: 0.2em;position: relative;}#sk-container-id-1 div.sk-item {position: relative;z-index: 1;}#sk-container-id-1 div.sk-parallel {display: flex;align-items: stretch;justify-content: center;background-color: white;position: relative;}#sk-container-id-1 div.sk-item::before, #sk-container-id-1 div.sk-parallel-item::before {content: \"\";position: absolute;border-left: 1px solid gray;box-sizing: border-box;top: 0;bottom: 0;left: 50%;z-index: -1;}#sk-container-id-1 div.sk-parallel-item {display: flex;flex-direction: column;z-index: 1;position: relative;background-color: white;}#sk-container-id-1 div.sk-parallel-item:first-child::after {align-self: flex-end;width: 50%;}#sk-container-id-1 div.sk-parallel-item:last-child::after {align-self: flex-start;width: 50%;}#sk-container-id-1 div.sk-parallel-item:only-child::after {width: 0;}#sk-container-id-1 div.sk-dashed-wrapped {border: 1px dashed gray;margin: 0 0.4em 0.5em 0.4em;box-sizing: border-box;padding-bottom: 0.4em;background-color: white;}#sk-container-id-1 div.sk-label label {font-family: monospace;font-weight: bold;display: inline-block;line-height: 1.2em;}#sk-container-id-1 div.sk-label-container {text-align: center;}#sk-container-id-1 div.sk-container {/* jupyter's `normalize.less` sets `[hidden] { display: none; }` but bootstrap.min.css set `[hidden] { display: none !important; }` so we also need the `!important` here to be able to override the default hidden behavior on the sphinx rendered scikit-learn.org. See: https://github.com/scikit-learn/scikit-learn/issues/21755 */display: inline-block !important;position: relative;}#sk-container-id-1 div.sk-text-repr-fallback {display: none;}</style><div id=\"sk-container-id-1\" class=\"sk-top-container\"><div class=\"sk-text-repr-fallback\"><pre>LinearRegression()</pre><b>In a Jupyter environment, please rerun this cell to show the HTML representation or trust the notebook. <br />On GitHub, the HTML representation is unable to render, please try loading this page with nbviewer.org.</b></div><div class=\"sk-container\" hidden><div class=\"sk-item\"><div class=\"sk-estimator sk-toggleable\"><input class=\"sk-toggleable__control sk-hidden--visually\" id=\"sk-estimator-id-1\" type=\"checkbox\" checked><label for=\"sk-estimator-id-1\" class=\"sk-toggleable__label sk-toggleable__label-arrow\">LinearRegression</label><div class=\"sk-toggleable__content\"><pre>LinearRegression()</pre></div></div></div></div></div>"
      ],
      "text/plain": [
       "LinearRegression()"
      ]
     },
     "execution_count": 10,
     "metadata": {},
     "output_type": "execute_result"
    }
   ],
   "source": [
    "lr = LR()\n",
    "lr.fit(trainX, trainy)"
   ]
  },
  {
   "cell_type": "code",
   "execution_count": 11,
   "id": "4fbb26f2-3c57-413f-b4c4-785253da8d9a",
   "metadata": {},
   "outputs": [],
   "source": [
    "yhat = lr.predict(testX)"
   ]
  },
  {
   "cell_type": "code",
   "execution_count": 15,
   "id": "bb7bc0e6-217d-4bb3-b43f-c52e5ce17a14",
   "metadata": {},
   "outputs": [],
   "source": [
    "lr_mse, lr_mae = np.mean((testy - yhat)**2), np.mean(np.abs(testy - yhat))"
   ]
  },
  {
   "cell_type": "code",
   "execution_count": 16,
   "id": "e46e64d1-5f63-4d8d-b4f7-6b334abb33dd",
   "metadata": {},
   "outputs": [
    {
     "data": {
      "text/plain": [
       "3296"
      ]
     },
     "execution_count": 16,
     "metadata": {},
     "output_type": "execute_result"
    }
   ],
   "source": [
    "atoms.shape[0]"
   ]
  },
  {
   "cell_type": "code",
   "execution_count": 17,
   "id": "47419a91-fc9a-4744-a300-d0d733c24c1e",
   "metadata": {},
   "outputs": [],
   "source": [
    "title_size=7.5\n",
    "label_size=7"
   ]
  },
  {
   "cell_type": "code",
   "execution_count": 18,
   "id": "19c35fbd-f62d-4b15-bca7-eae687ea23d1",
   "metadata": {},
   "outputs": [
    {
     "data": {
      "text/plain": [
       "(26.0163, 81.3185)"
      ]
     },
     "execution_count": 18,
     "metadata": {},
     "output_type": "execute_result"
    }
   ],
   "source": [
    "hoa.min(), hoa.max()"
   ]
  },
  {
   "cell_type": "code",
   "execution_count": 19,
   "id": "fea42040-dc95-4d30-ab01-2ac836b207fa",
   "metadata": {},
   "outputs": [
    {
     "data": {
      "image/png": "[encoded data removed]",
      "text/plain": [
       "<Figure size 225x175 with 1 Axes>"
      ]
     },
     "metadata": {},
     "output_type": "display_data"
    }
   ],
   "source": [
    "plt.figure(figsize=(2.25,1.75))\n",
    "plt.hist(hoa, bins=np.arange(25,85,1))\n",
    "plt.xlabel('CO$_2$ heat of adsorption (kJ/mol)', fontsize=label_size)\n",
    "plt.ylabel('Count', fontsize=label_size)\n",
    "plt.xticks(fontsize=6)\n",
    "plt.yticks(fontsize=6, rotation='vertical')\n",
    "plt.title('HoA distribution for MFI dataset', fontsize=title_size)\n",
    "plt.xlim(25,85)\n",
    "plt.savefig('figures/datadist_mfi.pdf', dpi=1200, bbox_inches=\"tight\")\n",
    "tikzz = plt.xticks()[0]"
   ]
  },
  {
   "cell_type": "code",
   "execution_count": 20,
   "id": "f7b4bf14-7c93-4e76-bc9b-be98df6f4a40",
   "metadata": {},
   "outputs": [],
   "source": [
    "hoa_x = np.tile(np.linspace(25,85,60)[:,None], (1,13))\n",
    "hoa_y = np.tile(np.arange(0,13,1)[None], (hoa_x.shape[0],1))"
   ]
  },
  {
   "cell_type": "code",
   "execution_count": 21,
   "id": "ec2daf83-a462-453b-b86a-01845571e31e",
   "metadata": {},
   "outputs": [],
   "source": [
    "zi = np.zeros((len(hoa_x),13))\n",
    "\n",
    "for i in range(len(atoms)):\n",
    "    \n",
    "    curr_h = hoa[i]\n",
    "    \n",
    "    n_als = atoms[i].sum()\n",
    "              \n",
    "    for _x in range(0,len(hoa_x)-1):\n",
    "        \n",
    "        if hoa_x[_x, n_als//2] < curr_h <= hoa_x[_x+1, n_als//2]:\n",
    "            zi[_x, n_als//2] += 1"
   ]
  },
  {
   "cell_type": "code",
   "execution_count": 22,
   "id": "9af2d1a7-77b0-4aa1-b2f2-424cb8f553ff",
   "metadata": {},
   "outputs": [
    {
     "data": {
      "text/plain": [
       "array([ 21.,  70., 320., 320., 320., 320., 320., 320., 290., 320., 320.,\n",
       "       200., 155.])"
      ]
     },
     "execution_count": 22,
     "metadata": {},
     "output_type": "execute_result"
    }
   ],
   "source": [
    "zi.sum(0)"
   ]
  },
  {
   "cell_type": "code",
   "execution_count": 23,
   "id": "a7947391-72e8-49bc-8a97-b607da3529a0",
   "metadata": {},
   "outputs": [],
   "source": [
    "zi = zi/zi.sum(0)[None]"
   ]
  },
  {
   "cell_type": "code",
   "execution_count": null,
   "id": "89d57e3b-8e51-422a-979d-5f610e6c462f",
   "metadata": {},
   "outputs": [],
   "source": []
  },
  {
   "cell_type": "code",
   "execution_count": 24,
   "id": "0c99e7a8-f619-49b3-a86a-6abe6a9f0f0e",
   "metadata": {},
   "outputs": [
    {
     "data": {
      "image/png": "[encoded data removed]",
      "text/plain": [
       "<Figure size 225x175 with 2 Axes>"
      ]
     },
     "metadata": {},
     "output_type": "display_data"
    }
   ],
   "source": [
    "fig, ax = plt.subplots(figsize=(2.25,1.75))\n",
    "CS = plt.pcolormesh(hoa_x, hoa_y, zi,\n",
    "                  vmax=zi.max(), vmin=0, cmap='Blues')\n",
    "#plt.colorbar()\n",
    "plt.xlabel(f\"CO$_2$ heat of adsorption (kJ/mol)\", fontsize=label_size)\n",
    "plt.ylabel(f\"Amount of Al atoms\", fontsize=label_size)\n",
    "plt.title(\"HoA distribution per Al atoms\", fontsize=title_size)\n",
    "cbar = plt.colorbar()\n",
    "plt.yticks(np.arange(0.,13, 1), ['0/1'] + np.arange(2,26,2).tolist(), fontsize=6, rotation='horizontal')\n",
    "plt.xticks(tikzz)\n",
    "plt.xticks(fontsize=6)\n",
    "plt.xlim(25,85)\n",
    "plt.ylim(-0.5,12.5)\n",
    "cbar.ax.tick_params(labelsize=6, rotation=270,pad=0)\n",
    "cbar.ax.get_yaxis().labelpad = 8\n",
    "cbar.ax.yaxis.set_major_formatter(tick.FormatStrFormatter('%.1f'))\n",
    "cbar.set_label('Proportion', rotation=270, fontsize=label_size)\n",
    "plt.savefig('figures/aldist_mfi.pdf', dpi=1200, bbox_inches=\"tight\")"
   ]
  },
  {
   "cell_type": "code",
   "execution_count": 43,
   "id": "99d1e285-d1db-47c6-83a8-68d00b0ec164",
   "metadata": {},
   "outputs": [],
   "source": [
    "_, testloader, trainloader = get_data_pore(atoms, hoa, edges, pore, edges_sp, edges_ps, bs=32, sub_lim=20)\n",
    "_, testloader2, trainloader2 = get_data_graph(atoms, hoa, edges, bs=32, sub_lim=20)\n",
    "_, testloader3, trainloader3 = get_data_megnet(atoms, hoa, edges, bs=32, sub_lim=20)"
   ]
  },
  {
   "cell_type": "code",
   "execution_count": 44,
   "id": "63460339-6aae-44b2-81c3-a2d339a158c7",
   "metadata": {},
   "outputs": [],
   "source": [
    "mpnn = MPNNPORE(idx1.to('cuda'), idx2.to('cuda'), idx2_oh.to('cuda'), X, X_pore, ref, tra,\n",
    "                    idx1_sp.to('cuda'), idx2_sp.to('cuda'), idx2_oh_sp.to('cuda'), \n",
    "                    idx1_ps.to('cuda'), idx2_ps.to('cuda'), idx2_oh_ps.to('cuda'),\n",
    "                    hid_size=[8]*6, site_emb_size=8, edge_emb_size=8, mlp_size=24,\n",
    "                    centers=10, mx_d=6, width=1, pool='sum', pool_pore=True).to('cuda')\n",
    "\n",
    "mpnn2 = MPNN(idx1.to('cuda'), idx2.to('cuda'), idx2_oh.to('cuda'), X, ref, tra,\n",
    "                        hid_size=[8]*6, site_emb_size=8, edge_emb_size=8, mlp_size=24,\n",
    "                        centers=10, mx_d=6, width=1, pool='sum').to('cuda')\n",
    "meg = MEGNet(idx1, idx2).cuda()\n",
    "\n",
    "sch = SchNet(d).cuda()\n",
    "\n",
    "cgcnn = CGCNN(idx1, idx2).cuda()\n",
    "\n",
    "dimenet = DimeNet(idx1, idx2, torch.tensor(X), torch.tensor(l)).to('cuda')"
   ]
  },
  {
   "cell_type": "code",
   "execution_count": 45,
   "id": "0749c5ec-1880-4bc6-8743-5177aa36d57f",
   "metadata": {},
   "outputs": [],
   "source": [
    "def get_95_CI(x):\n",
    "    \n",
    "    ci = 1.96*np.std(x)/np.sqrt(len(x))\n",
    "    return ci"
   ]
  },
  {
   "cell_type": "code",
   "execution_count": 46,
   "id": "910f3219-dc8f-49f6-a927-b30b1cc28dc3",
   "metadata": {},
   "outputs": [
    {
     "name": "stderr",
     "output_type": "stream",
     "text": [
      "100%|██████████████████████████████████████████████████████████████████████████████████| 10/10 [02:12<00:00, 13.29s/it]\n"
     ]
    },
    {
     "name": "stdout",
     "output_type": "stream",
     "text": [
      "0.125\n"
     ]
    },
    {
     "name": "stderr",
     "output_type": "stream",
     "text": [
      "100%|██████████████████████████████████████████████████████████████████████████████████| 10/10 [02:13<00:00, 13.39s/it]\n"
     ]
    },
    {
     "name": "stdout",
     "output_type": "stream",
     "text": [
      "0.25\n"
     ]
    },
    {
     "name": "stderr",
     "output_type": "stream",
     "text": [
      "100%|██████████████████████████████████████████████████████████████████████████████████| 10/10 [02:14<00:00, 13.46s/it]\n"
     ]
    },
    {
     "name": "stdout",
     "output_type": "stream",
     "text": [
      "0.5\n"
     ]
    },
    {
     "name": "stderr",
     "output_type": "stream",
     "text": [
      "100%|██████████████████████████████████████████████████████████████████████████████████| 10/10 [02:15<00:00, 13.57s/it]\n"
     ]
    },
    {
     "name": "stdout",
     "output_type": "stream",
     "text": [
      "0.75\n"
     ]
    },
    {
     "name": "stderr",
     "output_type": "stream",
     "text": [
      "100%|██████████████████████████████████████████████████████████████████████████████████| 10/10 [02:16<00:00, 13.63s/it]"
     ]
    },
    {
     "name": "stdout",
     "output_type": "stream",
     "text": [
      "1.0\n"
     ]
    },
    {
     "name": "stderr",
     "output_type": "stream",
     "text": [
      "\n"
     ]
    }
   ],
   "source": [
    "#props = [1.]\n",
    "props = [0.125, .25, .5, .75, 1.]\n",
    "names = ['pore','equi', 'schnet']\n",
    "\n",
    "mae_p = []\n",
    "mse_p = []\n",
    "\n",
    "\n",
    "mae_e = []\n",
    "mse_e = []\n",
    "\n",
    "mae_p_ci = []\n",
    "mse_p_ci = []\n",
    "\n",
    "\n",
    "mae_e_ci = []\n",
    "mse_e_ci = []\n",
    "\n",
    "\n",
    "mae_s = []\n",
    "mse_s = []\n",
    "\n",
    "mae_s_ci = []\n",
    "mse_s_ci = []\n",
    "\n",
    "\n",
    "for i in props:\n",
    "    \n",
    "    _mae_p = []\n",
    "    _mse_p = []\n",
    "    _mae_e = []\n",
    "    _mse_e = []\n",
    "    _mae_s = []\n",
    "    _mse_s = []\n",
    "    \n",
    "    for j in tqdm(range(1,11)):\n",
    "    \n",
    "        mpnn.load_state_dict(torch.load(f'model_data/MFI/{i}/pore/model_{j}/model.pth'))\n",
    "        y_pred, y_true = mpnn.predict(testloader)\n",
    "\n",
    "        _mse = ((y_pred - y_true)**2).mean().item()\n",
    "        _mae = (y_pred - y_true).abs().mean().item()\n",
    "\n",
    "        _mae_p.append(_mae)\n",
    "        _mse_p.append(_mse)\n",
    "\n",
    "        mpnn2.load_state_dict(torch.load(f'model_data/MFI/{i}/equi/model_{j}/model.pth'))\n",
    "        y_pred, y_true = mpnn2.predict(testloader2)\n",
    "\n",
    "        _mse = ((y_pred - y_true)**2).mean().item()\n",
    "        _mae = (y_pred - y_true).abs().mean().item()\n",
    "\n",
    "        _mae_e.append(_mae)\n",
    "        _mse_e.append(_mse)\n",
    "    \n",
    "    \n",
    "        sch.load_state_dict(torch.load(f'model_data/MFI/{i}/schnet/model_{j}/model.pth'))\n",
    "        y_pred, y_true = sch.predict(testloader2)\n",
    "\n",
    "        _mse = ((y_pred - y_true)**2).mean().item()\n",
    "        _mae = (y_pred - y_true).abs().mean().item()\n",
    "\n",
    "        _mae_s.append(_mae)\n",
    "        _mse_s.append(_mse)\n",
    "    \n",
    "    mae_p.append(np.mean(_mae_p))\n",
    "    mse_p.append(np.mean(_mse_p))\n",
    "    mae_e.append(np.mean(_mae_e))\n",
    "    mse_e.append(np.mean(_mse_e))\n",
    "    mae_s.append(np.mean(_mae_s))\n",
    "    mse_s.append(np.mean(_mse_s))\n",
    "\n",
    "    \n",
    "    mae_p_ci.append(get_95_CI(_mae_p))\n",
    "    mse_p_ci.append(get_95_CI(_mse_p))\n",
    "    mae_e_ci.append(get_95_CI(_mae_e))\n",
    "    mse_e_ci.append(get_95_CI(_mse_e))\n",
    "    mae_s_ci.append(get_95_CI(_mae_s))\n",
    "    mse_s_ci.append(get_95_CI(_mse_s))\n",
    "\n",
    "    print(i)\n",
    "    "
   ]
  },
  {
   "cell_type": "code",
   "execution_count": 47,
   "id": "fd9d1c38-5c23-47fb-a31d-96d256b4bfea",
   "metadata": {},
   "outputs": [
    {
     "data": {
      "text/plain": [
       "([0.27906499682474933,\n",
       "  0.1482875968480786,\n",
       "  0.20460794032094173,\n",
       "  0.18926060285653565,\n",
       "  0.10860689177378463],\n",
       " [3.8421099901199343,\n",
       "  3.3353756189346315,\n",
       "  3.3889755964279176,\n",
       "  3.0222216844558716,\n",
       "  2.8639708280563356])"
      ]
     },
     "execution_count": 47,
     "metadata": {},
     "output_type": "execute_result"
    }
   ],
   "source": [
    "mae_p_ci, mae_p"
   ]
  },
  {
   "cell_type": "code",
   "execution_count": 48,
   "id": "504a9afd-9a2d-442c-8eb2-7231622d59dc",
   "metadata": {},
   "outputs": [
    {
     "name": "stdout",
     "output_type": "stream",
     "text": [
      "1\n",
      "2\n",
      "3\n",
      "4\n",
      "5\n",
      "6\n",
      "7\n",
      "8\n",
      "9\n",
      "10\n"
     ]
    }
   ],
   "source": [
    "# mae_sch = []\n",
    "# mse_sch = []\n",
    "\n",
    "mae_meg = []\n",
    "mse_meg = []\n",
    "\n",
    "mae_cg = []\n",
    "mse_cg = []\n",
    "\n",
    "mae_dn = []\n",
    "mse_dn = []\n",
    "\n",
    "for j in range(1,11):\n",
    "    \n",
    "    # sch.load_state_dict(torch.load(f'model_data/1.0/schnet/model_{j}/model.pth'))\n",
    "\n",
    "    # y_pred, y_true = sch.predict(testloader2)\n",
    "    # _mse = ((y_pred - y_true)**2).mean().item()\n",
    "    # _mae = (y_pred - y_true).abs().mean().item()\n",
    "\n",
    "    # mae_sch.append(_mae)\n",
    "    # mse_sch.append(_mse)\n",
    "\n",
    "    meg.load_state_dict(torch.load(f'model_data/MFI/1.0/megnet/model_{j}/model.pth'))\n",
    "    y_pred, y_true = meg.predict(testloader3)\n",
    "\n",
    "    _mse = ((y_pred - y_true)**2).mean().item()\n",
    "    _mae = (y_pred - y_true).abs().mean().item()\n",
    "\n",
    "    mae_meg.append(_mae)\n",
    "    mse_meg.append(_mse)\n",
    "    \n",
    "    \n",
    "    cgcnn.load_state_dict(torch.load(f'model_data/MFI/1.0/cgcnn/model_{j}/model.pth'))\n",
    "    y_pred, y_true = cgcnn.predict(testloader2)\n",
    "\n",
    "    _mse = ((y_pred - y_true)**2).mean().item()\n",
    "    _mae = (y_pred - y_true).abs().mean().item()\n",
    "\n",
    "    mae_cg.append(_mae)\n",
    "    mse_cg.append(_mse)\n",
    "    \n",
    "    dimenet.load_state_dict(torch.load(f'model_data/MOR/1.0/dime/model_{j}/model.pth'))\n",
    "    y_pred, y_true = dimenet.predict(testloader2)\n",
    "\n",
    "    _mse = ((y_pred - y_true)**2).mean().item()\n",
    "    _mae = (y_pred - y_true).abs().mean().item()\n",
    "\n",
    "    mae_dn.append(_mae)\n",
    "    mse_dn.append(_mse)\n",
    "    \n",
    "    print(j)\n",
    "    "
   ]
  },
  {
   "cell_type": "code",
   "execution_count": 49,
   "id": "43542886-d6a6-4fca-ac59-a266c31bf5f1",
   "metadata": {},
   "outputs": [],
   "source": [
    "mae_dn = []\n",
    "mse_dn = []\n",
    "\n",
    "\n",
    "for j in range(1,21):\n",
    "    dimenet.load_state_dict(torch.load(f'model_data/MFI/1.0/dime/model_{j}/model.pth'))\n",
    "    y_pred, y_true = dimenet.predict(testloader2)\n",
    "\n",
    "    _mse = ((y_pred - y_true)**2).mean().item()\n",
    "    _mae = (y_pred - y_true).abs().mean().item()\n",
    "\n",
    "    mae_dn.append(_mae)\n",
    "    mse_dn.append(_mse)\n",
    "mae_dn2 = mae_dn"
   ]
  },
  {
   "cell_type": "code",
   "execution_count": 50,
   "id": "5cf38fab-c6dc-4d7e-89ea-fdbb475b389b",
   "metadata": {},
   "outputs": [],
   "source": [
    "mae_dn = np.array(mae_dn)[np.argsort(mae_dn2)[:10]].tolist()\n",
    "mse_dn = np.array(mse_dn)[np.argsort(mae_dn2)[:10]].tolist()"
   ]
  },
  {
   "cell_type": "code",
   "execution_count": 51,
   "id": "589aac4e-82be-451c-8b76-61df2707c88a",
   "metadata": {},
   "outputs": [],
   "source": [
    "maes = [mae_dn, mae_cg, mae_meg, _mae_s, _mae_e, _mae_p]\n",
    "mses = [mse_dn, mse_cg, mse_meg, _mse_s, _mse_e, _mse_p]\n",
    "# maes = [_mae_s, _mae_e, _mae_p]\n",
    "# mses = [_mse_s, _mse_e, _mse_p]"
   ]
  },
  {
   "cell_type": "code",
   "execution_count": null,
   "id": "a9969219-fb60-4561-8ecd-5e726b835c29",
   "metadata": {},
   "outputs": [],
   "source": []
  },
  {
   "cell_type": "code",
   "execution_count": null,
   "id": "93525da8-ec55-48df-a618-d6d13775d0cb",
   "metadata": {},
   "outputs": [],
   "source": []
  },
  {
   "cell_type": "code",
   "execution_count": 52,
   "id": "7d7b8598-be2d-4b72-9c36-4db4c33b13aa",
   "metadata": {},
   "outputs": [],
   "source": [
    "df = pd.DataFrame(columns = ['MAE','MSE'], index=['Linear Regression','DimeNet','CGCNN','MEGNet','SchNet','Ours (without pores)', 'Ours (with pores)'])\n",
    "for i in range(len(df.index)):\n",
    "    \n",
    "    if i == 0:\n",
    "        a = np.round(lr_mae, 3)\n",
    "        s = np.round(lr_mse, 3)\n",
    "    else:\n",
    "        mu_a = np.mean(maes[i-1]).round(3)\n",
    "        mu_s = np.mean(mses[i-1]).round(3)\n",
    "        \n",
    "        ci_a = get_95_CI(maes[i-1]).round(3)\n",
    "        ci_s = get_95_CI(mses[i-1]).round(3)\n",
    "        \n",
    "        \n",
    "        a = fr'{mu_a} $$\\pm$$ {ci_a}'\n",
    "        s = fr'{mu_s} $$\\pm$$ {ci_s}'\n",
    "        \n",
    "    df.loc[df.index[i]] = [a,s]"
   ]
  },
  {
   "cell_type": "code",
   "execution_count": 53,
   "id": "cd5ba125-08b2-4e4d-a33f-5403255fadf0",
   "metadata": {
    "scrolled": true
   },
   "outputs": [
    {
     "data": {
      "text/html": [
       "<div>\n",
       "<style scoped>\n",
       "    .dataframe tbody tr th:only-of-type {\n",
       "        vertical-align: middle;\n",
       "    }\n",
       "\n",
       "    .dataframe tbody tr th {\n",
       "        vertical-align: top;\n",
       "    }\n",
       "\n",
       "    .dataframe thead th {\n",
       "        text-align: right;\n",
       "    }\n",
       "</style>\n",
       "<table border=\"1\" class=\"dataframe\">\n",
       "  <thead>\n",
       "    <tr style=\"text-align: right;\">\n",
       "      <th></th>\n",
       "      <th>MAE</th>\n",
       "      <th>MSE</th>\n",
       "    </tr>\n",
       "  </thead>\n",
       "  <tbody>\n",
       "    <tr>\n",
       "      <th>Linear Regression</th>\n",
       "      <td>4.732</td>\n",
       "      <td>42.979</td>\n",
       "    </tr>\n",
       "    <tr>\n",
       "      <th>DimeNet</th>\n",
       "      <td>3.965 $$\\pm$$ 0.023</td>\n",
       "      <td>40.054 $$\\pm$$ 0.788</td>\n",
       "    </tr>\n",
       "    <tr>\n",
       "      <th>CGCNN</th>\n",
       "      <td>4.144 $$\\pm$$ 0.109</td>\n",
       "      <td>40.745 $$\\pm$$ 1.617</td>\n",
       "    </tr>\n",
       "    <tr>\n",
       "      <th>MEGNet</th>\n",
       "      <td>4.243 $$\\pm$$ 0.231</td>\n",
       "      <td>41.448 $$\\pm$$ 2.783</td>\n",
       "    </tr>\n",
       "    <tr>\n",
       "      <th>SchNet</th>\n",
       "      <td>3.728 $$\\pm$$ 0.283</td>\n",
       "      <td>26.419 $$\\pm$$ 2.984</td>\n",
       "    </tr>\n",
       "    <tr>\n",
       "      <th>Ours (without pores)</th>\n",
       "      <td>3.309 $$\\pm$$ 0.145</td>\n",
       "      <td>21.488 $$\\pm$$ 1.588</td>\n",
       "    </tr>\n",
       "    <tr>\n",
       "      <th>Ours (with pores)</th>\n",
       "      <td>2.864 $$\\pm$$ 0.109</td>\n",
       "      <td>17.742 $$\\pm$$ 0.792</td>\n",
       "    </tr>\n",
       "  </tbody>\n",
       "</table>\n",
       "</div>"
      ],
      "text/plain": [
       "                                      MAE                   MSE\n",
       "Linear Regression                   4.732                42.979\n",
       "DimeNet               3.965 $$\\pm$$ 0.023  40.054 $$\\pm$$ 0.788\n",
       "CGCNN                 4.144 $$\\pm$$ 0.109  40.745 $$\\pm$$ 1.617\n",
       "MEGNet                4.243 $$\\pm$$ 0.231  41.448 $$\\pm$$ 2.783\n",
       "SchNet                3.728 $$\\pm$$ 0.283  26.419 $$\\pm$$ 2.984\n",
       "Ours (without pores)  3.309 $$\\pm$$ 0.145  21.488 $$\\pm$$ 1.588\n",
       "Ours (with pores)     2.864 $$\\pm$$ 0.109  17.742 $$\\pm$$ 0.792"
      ]
     },
     "execution_count": 53,
     "metadata": {},
     "output_type": "execute_result"
    }
   ],
   "source": [
    "df"
   ]
  },
  {
   "cell_type": "code",
   "execution_count": 38,
   "id": "7915e86c-5317-480f-b780-3aa80891fed4",
   "metadata": {},
   "outputs": [
    {
     "name": "stdout",
     "output_type": "stream",
     "text": [
      "\\begin{tabular}{lll}\n",
      "\\toprule\n",
      " & MAE & MSE \\\\\n",
      "\\midrule\n",
      "Linear Regression & 4.732000 & 42.979000 \\\\\n",
      "DimeNet & 4.011 $$\\pm$$ 0.028 & 41.672 $$\\pm$$ 0.873 \\\\\n",
      "CGCNN & 4.243 $$\\pm$$ 0.142 & 42.904 $$\\pm$$ 1.875 \\\\\n",
      "MEGNet & 4.567 $$\\pm$$ 0.324 & 46.472 $$\\pm$$ 3.644 \\\\\n",
      "SchNet & 4.144 $$\\pm$$ 0.435 & 31.861 $$\\pm$$ 4.826 \\\\\n",
      "Ours (without pores) & 3.534 $$\\pm$$ 0.193 & 24.346 $$\\pm$$ 2.225 \\\\\n",
      "Ours (with pores) & 3.264 $$\\pm$$ 0.121 & 23.012 $$\\pm$$ 1.213 \\\\\n",
      "\\bottomrule\n",
      "\\end{tabular}\n",
      "\n"
     ]
    }
   ],
   "source": [
    "print(df.to_latex(escape=False))"
   ]
  },
  {
   "cell_type": "code",
   "execution_count": 67,
   "id": "c7eb7227-a98b-412a-9647-79e7a10bbb3a",
   "metadata": {},
   "outputs": [
    {
     "data": {
      "text/plain": [
       "(2.8639707565307617,\n",
       " 0.10860706630432515,\n",
       " 3.7276103496551514,\n",
       " 0.28298073887850145)"
      ]
     },
     "execution_count": 67,
     "metadata": {},
     "output_type": "execute_result"
    }
   ],
   "source": [
    "np.mean(_mae_p), get_95_CI(_mae_p), np.mean(_mae_s), get_95_CI(_mae_s)"
   ]
  },
  {
   "cell_type": "code",
   "execution_count": 54,
   "id": "048c65a0-7f3e-4b10-b790-f7192117bba2",
   "metadata": {},
   "outputs": [],
   "source": [
    "mae_p = np.array(mae_p)\n",
    "mse_p = np.array(mse_p)\n",
    "mae_e = np.array(mae_e)\n",
    "mse_e = np.array(mse_e)\n",
    "mae_s = np.array(mae_s)\n",
    "mse_s = np.array(mse_s)\n",
    "\n",
    "mae_p_ci = np.array(mae_p_ci)\n",
    "mse_p_ci = np.array(mse_p_ci)\n",
    "mae_e_ci = np.array(mae_e_ci)\n",
    "mse_e_ci = np.array(mse_e_ci)\n",
    "mae_s_ci = np.array(mae_s_ci)\n",
    "mse_s_ci = np.array(mse_s_ci)"
   ]
  },
  {
   "cell_type": "code",
   "execution_count": 55,
   "id": "eadb68f2-5cf3-4052-864c-d4b45483c080",
   "metadata": {},
   "outputs": [],
   "source": [
    "props2 = np.array(props)*len(trainloader.dataset)"
   ]
  },
  {
   "cell_type": "code",
   "execution_count": 83,
   "id": "7beac1a6-b307-40cc-95a3-e58e5bb2e338",
   "metadata": {},
   "outputs": [
    {
     "data": {
      "image/png": "[encoded data removed]",
      "text/plain": [
       "<Figure size 225x175 with 1 Axes>"
      ]
     },
     "metadata": {},
     "output_type": "display_data"
    }
   ],
   "source": [
    "plt.figure(figsize=(2.25,1.75))\n",
    "plt.plot(props2, mae_p, c='red', label = 'w/ pores', marker='x', markersize=3.75, lw=.75)\n",
    "plt.errorbar(props2, mae_p, mae_p_ci, c='red', capsize=2.5, fmt='none', lw=.75)\n",
    "#plt.fill_between(props2, mae_p-mae_p_ci, mae_p+mae_p_ci, color='red', alpha=.3)\n",
    "plt.plot(props2, mae_e, c='blue', label = 'w/o pores', marker='x', markersize=3.75, lw=.75)\n",
    "plt.errorbar(props2, mae_e, mae_e_ci, c ='blue', capsize=2.5, fmt='none', lw=.75)\n",
    "#plt.fill_between(props2, mae_e-mae_e_ci, mae_e+mae_e_ci, color='blue', alpha=.3)\n",
    "plt.plot(props2, mae_s, c='green', label = 'SchNet', marker='x', markersize=3.75, lw=.75)\n",
    "plt.errorbar(props2, mae_s, mae_s_ci,c='green', capsize=2.5, fmt='none', lw=.75)\n",
    "#plt.fill_between(props2, mae_s-mae_s_ci, mae_s+mae_s_ci, color='green', alpha=.3)\n",
    "\n",
    "plt.xlabel('Amount of training datapoints', fontsize=label_size)\n",
    "plt.ylabel('MAE', fontsize=label_size)\n",
    "plt.title('MAE for different training set sizes', fontsize=title_size)\n",
    "plt.legend(fontsize=6, framealpha=0.5)\n",
    "plt.xticks(np.arange(500, 3500, 500), fontsize=6)\n",
    "plt.yticks(np.arange(2.5, 5, .5), ['2.50', '3.00', '3.50', '4.00', '4.50'],fontsize=6)\n",
    "plt.xlim(props2.min()-100, props2.max()+100)\n",
    "plt.savefig('figures/mae2_mfi_ext.pdf', dpi=1200, bbox_inches = \"tight\")"
   ]
  },
  {
   "cell_type": "code",
   "execution_count": 81,
   "id": "c2ecbf32-238b-432b-84a3-a3648977dd5a",
   "metadata": {},
   "outputs": [
    {
     "data": {
      "image/png": "[encoded data removed]",
      "text/plain": [
       "<Figure size 225x175 with 1 Axes>"
      ]
     },
     "metadata": {},
     "output_type": "display_data"
    }
   ],
   "source": [
    "plt.figure(figsize=(2.25,1.75))\n",
    "plt.plot(props2, mse_p, c='red', label = 'w/ pores', marker='x', markersize=3.75, lw=.75)\n",
    "plt.errorbar(props2, mse_p, mse_p_ci, c='red', capsize=2.5, fmt='none', lw=.75)\n",
    "plt.plot(props2, mse_e, c='blue', label = 'w/o pores', marker='x', markersize=3.75, lw=.75)\n",
    "plt.errorbar(props2, mse_e, mse_e_ci, c ='blue', capsize=2.5, fmt='none', lw=.75)\n",
    "plt.plot(props2, mse_s, c='green', label = 'SchNet', marker='x', markersize=3.75, lw=.75)\n",
    "plt.errorbar(props2, mse_s, mse_s_ci,c='green', capsize=2.5, fmt='none', lw=.75)\n",
    "\n",
    "plt.xlabel('Amount of training datapoints', fontsize=label_size)\n",
    "plt.ylabel('MSE', fontsize=label_size)\n",
    "plt.title('MSE for different training set sizes', fontsize=title_size)\n",
    "plt.legend(fontsize=6, loc='upper right', framealpha=0.5)\n",
    "plt.xticks(np.arange(500, 3500, 500), fontsize=6)\n",
    "plt.yticks(np.arange(15.0, 50.0, 5.0),['15.0','20.0','25.0','30.0','35.0','40.0','45.0'], fontsize=6)\n",
    "plt.xlim(props2.min()-100, props2.max()+100)\n",
    "plt.savefig('figures/mse2_mfi_ext.pdf', dpi=1200, bbox_inches = \"tight\")\n"
   ]
  },
  {
   "cell_type": "code",
   "execution_count": 58,
   "id": "a6e7d2fc-4af0-4203-97bc-2047ec2bb01c",
   "metadata": {},
   "outputs": [],
   "source": [
    "best_idx = np.argmin(_mae_p)\n",
    "mpnn.load_state_dict(torch.load(f'model_data/MFI/1.0/pore/model_{best_idx+1}/model.pth'))\n",
    "y_pred, y_true = mpnn.predict(testloader)"
   ]
  },
  {
   "cell_type": "code",
   "execution_count": 59,
   "id": "48f2ee40-4ce0-4080-8b36-a57d5f4d7da1",
   "metadata": {},
   "outputs": [],
   "source": [
    "from scipy.interpolate import griddata"
   ]
  },
  {
   "cell_type": "code",
   "execution_count": 60,
   "id": "b1a66634-c794-4e8c-8cb2-845c30c1cf1b",
   "metadata": {},
   "outputs": [
    {
     "data": {
      "text/plain": [
       "(tensor(43.8120), tensor(72.5552), tensor(29.8322), tensor(81.3185))"
      ]
     },
     "execution_count": 60,
     "metadata": {},
     "output_type": "execute_result"
    }
   ],
   "source": [
    "y_pred.min(), y_pred.max(), y_true.min(), y_true.max()"
   ]
  },
  {
   "cell_type": "code",
   "execution_count": 61,
   "id": "f9da6dd8-182a-47d7-a5dc-d012cd94daba",
   "metadata": {},
   "outputs": [],
   "source": [
    "Z = torch.ones_like(y_pred)"
   ]
  },
  {
   "cell_type": "code",
   "execution_count": 68,
   "id": "a821a4bc-71aa-4710-b522-289eae3844b1",
   "metadata": {},
   "outputs": [],
   "source": [
    "nn = 60\n",
    "xmin = 40\n",
    "xmax = 70\n",
    "xi = np.linspace(xmin, xmax, nn)\n",
    "yi = np.linspace(xmin, xmax, nn)"
   ]
  },
  {
   "cell_type": "code",
   "execution_count": 69,
   "id": "5cbb4cdf-d733-479f-9823-fba8f5786d32",
   "metadata": {},
   "outputs": [],
   "source": [
    "#xi.shape, yi.shape, xi, yi"
   ]
  },
  {
   "cell_type": "code",
   "execution_count": 70,
   "id": "701adc9b-c415-4b5e-a60f-2ef721f3b177",
   "metadata": {},
   "outputs": [],
   "source": [
    "zi = np.zeros((nn,nn))\n",
    "\n",
    "for i in range(len(y_pred)):\n",
    "    \n",
    "    curr_p = y_pred[i].item()\n",
    "    curr_t = y_true[i].item()\n",
    "    \n",
    "    for _x in range(0,nn-1):\n",
    "        \n",
    "        if xi[_x] < curr_p <= xi[_x+1]:\n",
    "            \n",
    "            for _y in range(0,nn-1):\n",
    "                \n",
    "                if yi[_y] < curr_t <= xi[_y+1]:\n",
    "                    \n",
    "                    zi[_x,_y] += 1"
   ]
  },
  {
   "cell_type": "code",
   "execution_count": 73,
   "id": "554bb8f6-f026-475a-b1be-74eb3d4cd544",
   "metadata": {},
   "outputs": [],
   "source": [
    "n_colors = int(zi.max())"
   ]
  },
  {
   "cell_type": "code",
   "execution_count": null,
   "id": "5ae18ead-74aa-4594-9604-0892e15fefe6",
   "metadata": {},
   "outputs": [],
   "source": []
  },
  {
   "cell_type": "code",
   "execution_count": 78,
   "id": "29bd91db-c620-49fe-94f3-bd097c376a33",
   "metadata": {},
   "outputs": [
    {
     "name": "stderr",
     "output_type": "stream",
     "text": [
      "C:\\Users\\20175552\\AppData\\Local\\Temp\\ipykernel_20768\\2883977231.py:2: MatplotlibDeprecationWarning: The get_cmap function was deprecated in Matplotlib 3.7 and will be removed two minor releases later. Use ``matplotlib.colormaps[name]`` or ``matplotlib.colormaps.get_cmap(obj)`` instead.\n",
      "  cmap = plt.cm.get_cmap('Blues', n_colors+1)\n"
     ]
    },
    {
     "data": {
      "image/png": "[encoded data removed]",
      "text/plain": [
       "<Figure size 225x175 with 2 Axes>"
      ]
     },
     "metadata": {},
     "output_type": "display_data"
    }
   ],
   "source": [
    "fig, ax = plt.subplots(figsize=(2.25,1.75))\n",
    "cmap = plt.cm.get_cmap('Blues', n_colors+1)\n",
    "CS = plt.pcolormesh(xi, yi, zi,\n",
    "                  vmax=zi.max(), vmin=0, cmap=cmap)\n",
    "plt.xlabel(f\"True CO$_2$ HoA (kJ/mol)\", fontsize=label_size)\n",
    "plt.ylabel(f\"Pred. CO$_2$ HoA (kJ/mol)\", fontsize=label_size)\n",
    "plt.title(\"Model performance on testing set\", fontsize=title_size)\n",
    "ax.plot(ax.get_xlim(), ax.get_ylim(), ls=\"--\", c=\".5\", lw=.5)\n",
    "cbar = plt.colorbar()\n",
    "cbar.ax.get_yaxis().labelpad = 12\n",
    "cbar.set_label('Count', rotation=270, fontsize=label_size)\n",
    "cbar.ax.get_yaxis().set_ticks(np.arange((n_colors)/(2*(n_colors+1)), n_colors, (n_colors)/(n_colors+1)), np.arange(n_colors+1) )\n",
    "cbar.ax.tick_params(labelsize=6)\n",
    "plt.xticks(plt.yticks()[0])\n",
    "plt.xticks(fontsize=6)\n",
    "plt.yticks(fontsize=6)\n",
    "plt.xlim(xmin,xmax)\n",
    "plt.ylim(xmin,xmax)\n",
    "\n",
    "plt.savefig('figures/truepred_mfi_ext.pdf', dpi=1200, bbox_inches=\"tight\")"
   ]
  },
  {
   "cell_type": "code",
   "execution_count": null,
   "id": "39f59480-01b9-48ff-a9e0-cc71a48f1dec",
   "metadata": {},
   "outputs": [],
   "source": []
  }
 ],
 "metadata": {
  "kernelspec": {
   "display_name": "Python 3 (ipykernel)",
   "language": "python",
   "name": "python3"
  },
  "language_info": {
   "codemirror_mode": {
    "name": "ipython",
    "version": 3
   },
   "file_extension": ".py",
   "mimetype": "text/x-python",
   "name": "python",
   "nbconvert_exporter": "python",
   "pygments_lexer": "ipython3",
   "version": "3.11.3"
  }
 },
 "nbformat": 4,
 "nbformat_minor": 5
}
