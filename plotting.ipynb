{
 "cells": [
  {
   "cell_type": "code",
   "execution_count": 1,
   "id": "f3efd022-431e-4c99-9062-f61ef85fa695",
   "metadata": {},
   "outputs": [],
   "source": [
    "import os\n",
    "import sys\n",
    "sys.path.append(os.getcwd())\n",
    "sys.path.insert(0, \"../Zeolites/code/\")\n",
    "sys.path.insert(0, \"../Zeolites/\")\n",
    "\n",
    "\n",
    "import numpy as np\n",
    "import pandas as pd\n",
    "import torch\n",
    "import torch.nn as nn\n",
    "import torch.nn.functional as F\n",
    "\n",
    "import torch.optim as optim\n",
    "\n",
    "import matplotlib.pyplot as plt\n",
    "\n",
    "\n",
    "from models.equivariant_mpnn import MPNN, MPNNPORE\n",
    "from utils.ZeoliteData import get_zeolite, get_data_pore, get_data_graph, get_data_megnet\n",
    "from utils.dataloading import get_data, get_graph_data\n",
    "\n",
    "import tueplots \n",
    "\n",
    "from models.megnet import MEGNet\n",
    "from models.cgcnn import CGCNN\n",
    "from models.schnet import SchNet"
   ]
  },
  {
   "cell_type": "code",
   "execution_count": 2,
   "id": "2c0b07e6-76a3-416a-a251-adc2c7819176",
   "metadata": {},
   "outputs": [],
   "source": [
    "import matplotlib as mpl\n"
   ]
  },
  {
   "cell_type": "code",
   "execution_count": 3,
   "id": "6ff58c30-008d-4638-b374-ed14dfae9ed3",
   "metadata": {},
   "outputs": [],
   "source": [
    "plt.rc('font', family='serif',)\n",
    "#mpl.rc('text', usetex=True)"
   ]
  },
  {
   "cell_type": "code",
   "execution_count": 4,
   "id": "0f8b71d9-8d64-4fc5-a609-80cedce13355",
   "metadata": {},
   "outputs": [],
   "source": [
    "from tueplots import bundles"
   ]
  },
  {
   "cell_type": "code",
   "execution_count": 5,
   "id": "fb7220d8-320b-4679-a4ae-32f014a675be",
   "metadata": {},
   "outputs": [],
   "source": [
    "from matplotlib import rc\n"
   ]
  },
  {
   "cell_type": "code",
   "execution_count": 6,
   "id": "4fa7ff9f-8832-48bd-a205-8f7a95bfab3d",
   "metadata": {},
   "outputs": [],
   "source": [
    "#rc('font', **{'family': 'serif', 'serif': ['Computer Modern']})\n",
    "# rc('text', usetex=True)"
   ]
  },
  {
   "cell_type": "code",
   "execution_count": 7,
   "id": "9a7b3a46-df85-42dc-b5bf-04c4cf4f2ec0",
   "metadata": {},
   "outputs": [],
   "source": [
    "data = get_zeolite('MOR')\n",
    "    \n",
    "ref = data['ref'] # reflections\n",
    "tra = data['tra'] # translations\n",
    "l = data['l'] # scale of the unit cell\n",
    "\n",
    "# specific for MOR\n",
    "atoms, hoa, X, A, d, X_pore, A_pore, d_pore, pore = get_data(l)\n",
    "\n",
    "edges, idx1, idx2, idx2_oh = get_graph_data(A, d)\n",
    "edges_sp, idx1_sp, idx2_sp, idx2_oh_sp = get_graph_data(A_pore, d_pore)\n",
    "edges_ps, idx1_ps, idx2_ps, idx2_oh_ps = get_graph_data(A_pore.T, d_pore.T)"
   ]
  },
  {
   "cell_type": "code",
   "execution_count": 8,
   "id": "e46e64d1-5f63-4d8d-b4f7-6b334abb33dd",
   "metadata": {},
   "outputs": [
    {
     "data": {
      "text/plain": [
       "4123"
      ]
     },
     "execution_count": 8,
     "metadata": {},
     "output_type": "execute_result"
    }
   ],
   "source": [
    "atoms.shape[0]"
   ]
  },
  {
   "cell_type": "code",
   "execution_count": 9,
   "id": "47419a91-fc9a-4744-a300-d0d733c24c1e",
   "metadata": {},
   "outputs": [],
   "source": [
    "title_size=7.5\n",
    "label_size=7"
   ]
  },
  {
   "cell_type": "code",
   "execution_count": 10,
   "id": "fea42040-dc95-4d30-ab01-2ac836b207fa",
   "metadata": {},
   "outputs": [
    {
     "data": {
      "image/png": "[encoded data removed]",
      "text/plain": [
       "<Figure size 225x175 with 1 Axes>"
      ]
     },
     "metadata": {},
     "output_type": "display_data"
    }
   ],
   "source": [
    "plt.figure(figsize=(2.25,1.75))\n",
    "plt.hist(hoa, bins=np.arange(20,55,1))\n",
    "plt.xlabel('CO$_2$ heat of adsorption (kJ/mol)', fontsize=label_size)\n",
    "plt.ylabel('Count', fontsize=label_size)\n",
    "plt.xticks(fontsize=6)\n",
    "plt.yticks(fontsize=6, rotation='vertical')\n",
    "plt.title('HoA distribution for MOR dataset', fontsize=title_size)\n",
    "plt.xlim(20,55)\n",
    "plt.savefig('figures/datadist.pdf', dpi=1200, bbox_inches=\"tight\")\n",
    "tikzz = plt.xticks()[0]"
   ]
  },
  {
   "cell_type": "code",
   "execution_count": 12,
   "id": "1f214754-f4d4-45df-9832-a1142a9d2824",
   "metadata": {},
   "outputs": [
    {
     "name": "stdout",
     "output_type": "stream",
     "text": [
      "0 Al atom, count: 1\n",
      "1 Al atom, count: 48\n",
      "2 Al atom, count: 150\n",
      "3 Al atom, count: 330\n",
      "4 Al atom, count: 525\n",
      "5 Al atom, count: 405\n",
      "6 Al atom, count: 405\n",
      "7 Al atom, count: 375\n",
      "8 Al atom, count: 405\n",
      "9 Al atom, count: 410\n",
      "10 Al atom, count: 390\n",
      "11 Al atom, count: 334\n",
      "12 Al atom, count: 345\n"
     ]
    },
    {
     "data": {
      "text/plain": [
       "<matplotlib.legend.Legend at 0x2a4a37e0430>"
      ]
     },
     "execution_count": 12,
     "metadata": {},
     "output_type": "execute_result"
    },
    {
     "data": {
      "image/png": "[encoded data removed]",
      "text/plain": [
       "<Figure size 640x480 with 1 Axes>"
      ]
     },
     "metadata": {},
     "output_type": "display_data"
    }
   ],
   "source": [
    "bins = np.arange(20,55,1)\n",
    "bottom = np.zeros(bins.shape[0]-1)\n",
    "\n",
    "locs = np.arange(20.5,54.5,1)\n",
    "\n",
    "\n",
    "\n",
    "# for boolean, weight_count in weight_counts.items():\n",
    "#     p = ax.bar(species, weight_count, width, label=boolean, bottom=bottom)\n",
    "#     bottom += weight_count\n",
    "\n",
    "for i in np.unique(atoms.sum(1)):\n",
    "    hist = np.histogram(hoa[atoms.sum(1) == i], bins=bins)[0]\n",
    "    \n",
    "    plt.bar(locs, hist, width=1, label=i, bottom=bottom)\n",
    "    \n",
    "    bottom += hist\n",
    "\n",
    "    print(f'{i} Al atom, count: {(atoms.sum(1)==i).sum()}')\n",
    "plt.legend()\n",
    "    "
   ]
  },
  {
   "cell_type": "code",
   "execution_count": 13,
   "id": "f7b4bf14-7c93-4e76-bc9b-be98df6f4a40",
   "metadata": {},
   "outputs": [],
   "source": [
    "hoa_x = np.tile(np.linspace(20,55,35)[:,None], (1,13))\n",
    "hoa_y = np.tile(np.arange(0,13,1)[None], (hoa_x.shape[0],1))"
   ]
  },
  {
   "cell_type": "code",
   "execution_count": 14,
   "id": "35bc9869-034e-45b1-8a5b-92124822b4b1",
   "metadata": {},
   "outputs": [
    {
     "data": {
      "text/plain": [
       "((35, 13), (35, 13))"
      ]
     },
     "execution_count": 14,
     "metadata": {},
     "output_type": "execute_result"
    }
   ],
   "source": [
    "hoa_x.shape, hoa_y.shape"
   ]
  },
  {
   "cell_type": "code",
   "execution_count": 15,
   "id": "68ed36be-c635-4e10-97d1-8be74828f24e",
   "metadata": {},
   "outputs": [
    {
     "data": {
      "text/plain": [
       "20.7164"
      ]
     },
     "execution_count": 15,
     "metadata": {},
     "output_type": "execute_result"
    }
   ],
   "source": [
    "hoa.min()"
   ]
  },
  {
   "cell_type": "code",
   "execution_count": 16,
   "id": "ec2daf83-a462-453b-b86a-01845571e31e",
   "metadata": {},
   "outputs": [],
   "source": [
    "zi = np.zeros((len(hoa_x),13))\n",
    "\n",
    "for i in range(len(atoms)):\n",
    "    \n",
    "    curr_h = hoa[i]\n",
    "    \n",
    "    n_als = atoms[i].sum()\n",
    "              \n",
    "    for _x in range(0,len(hoa_x)-1):\n",
    "        \n",
    "        if hoa_x[_x, n_als] < curr_h <= hoa_x[_x+1, n_als]:\n",
    "            zi[_x, n_als] += 1"
   ]
  },
  {
   "cell_type": "code",
   "execution_count": 17,
   "id": "9af2d1a7-77b0-4aa1-b2f2-424cb8f553ff",
   "metadata": {},
   "outputs": [
    {
     "data": {
      "text/plain": [
       "array([  1.,  48., 150., 330., 525., 405., 405., 375., 405., 410., 390.,\n",
       "       334., 345.])"
      ]
     },
     "execution_count": 17,
     "metadata": {},
     "output_type": "execute_result"
    }
   ],
   "source": [
    "zi.sum(0)"
   ]
  },
  {
   "cell_type": "code",
   "execution_count": 18,
   "id": "a7947391-72e8-49bc-8a97-b607da3529a0",
   "metadata": {},
   "outputs": [],
   "source": [
    "zi = zi/zi.sum(0)[None]"
   ]
  },
  {
   "cell_type": "code",
   "execution_count": 19,
   "id": "0c99e7a8-f619-49b3-a86a-6abe6a9f0f0e",
   "metadata": {},
   "outputs": [
    {
     "data": {
      "image/png": "[encoded data removed]",
      "text/plain": [
       "<Figure size 225x175 with 2 Axes>"
      ]
     },
     "metadata": {},
     "output_type": "display_data"
    }
   ],
   "source": [
    "fig, ax = plt.subplots(figsize=(2.25,1.75))\n",
    "CS = plt.pcolormesh(hoa_x, hoa_y, zi,\n",
    "                  vmax=zi.max(), vmin=0, cmap='Blues')\n",
    "#plt.colorbar()\n",
    "plt.xlabel(f\"CO$_2$ heat of adsorption (kJ/mol)\", fontsize=label_size)\n",
    "plt.ylabel(f\"Amount of Al atoms\", fontsize=label_size)\n",
    "plt.title(\"HoA distribution per Al atoms\", fontsize=title_size)\n",
    "cbar = plt.colorbar()\n",
    "plt.yticks(np.arange(0,14,2), np.arange(0,14,2), fontsize=6, rotation='vertical')\n",
    "plt.xticks(tikzz)\n",
    "plt.xticks(fontsize=6)\n",
    "plt.xlim(20,55)\n",
    "plt.ylim(0,12)\n",
    "cbar.ax.tick_params(labelsize=6, rotation=270,pad=0)\n",
    "cbar.ax.get_yaxis().labelpad = 8\n",
    "cbar.set_label('Proportion', rotation=270, fontsize=label_size)\n",
    "plt.savefig('figures/aldist.pdf', dpi=1200, bbox_inches=\"tight\")"
   ]
  },
  {
   "cell_type": "code",
   "execution_count": 20,
   "id": "4b332147-9e5c-4724-beb7-33869abafeaa",
   "metadata": {},
   "outputs": [],
   "source": [
    "#help(plt.pcolormesh)"
   ]
  },
  {
   "cell_type": "code",
   "execution_count": 21,
   "id": "99d1e285-d1db-47c6-83a8-68d00b0ec164",
   "metadata": {},
   "outputs": [],
   "source": [
    "_, testloader, trainloader = get_data_pore(atoms, hoa, edges, pore, edges_sp, edges_ps, bs=32, sub_lim=12)\n",
    "_, testloader2, trainloader2 = get_data_graph(atoms, hoa, edges, bs=32, sub_lim=12)\n",
    "_, testloader3, trainloader3 = get_data_megnet(atoms, hoa, edges, bs=32, sub_lim=12)"
   ]
  },
  {
   "cell_type": "code",
   "execution_count": 22,
   "id": "63460339-6aae-44b2-81c3-a2d339a158c7",
   "metadata": {},
   "outputs": [],
   "source": [
    "mpnn = MPNNPORE(idx1.to('cuda'), idx2.to('cuda'), idx2_oh.to('cuda'), X, X_pore, ref, tra,\n",
    "                    idx1_sp.to('cuda'), idx2_sp.to('cuda'), idx2_oh_sp.to('cuda'), \n",
    "                    idx1_ps.to('cuda'), idx2_ps.to('cuda'), idx2_oh_ps.to('cuda'),\n",
    "                    hid_size=[8]*6, site_emb_size=8, edge_emb_size=8, mlp_size=24,\n",
    "                    centers=10, mx_d=6, width=1, pool='sum').to('cuda')\n",
    "\n",
    "mpnn2 = MPNN(idx1.to('cuda'), idx2.to('cuda'), idx2_oh.to('cuda'), X, ref, tra,\n",
    "                        hid_size=[8]*6, site_emb_size=8, edge_emb_size=8, mlp_size=24,\n",
    "                        centers=10, mx_d=6, width=1, pool='sum').to('cuda')\n",
    "meg = MEGNet(idx1, idx2).cuda()\n",
    "\n",
    "sch = SchNet(d).cuda()\n",
    "\n",
    "cgcnn = CGCNN(idx1, idx2).cuda()"
   ]
  },
  {
   "cell_type": "code",
   "execution_count": 23,
   "id": "0749c5ec-1880-4bc6-8743-5177aa36d57f",
   "metadata": {},
   "outputs": [],
   "source": [
    "def get_95_CI(x):\n",
    "    \n",
    "    ci = 1.96*np.std(x)/np.sqrt(len(x))\n",
    "    return ci"
   ]
  },
  {
   "cell_type": "code",
   "execution_count": 24,
   "id": "910f3219-dc8f-49f6-a927-b30b1cc28dc3",
   "metadata": {},
   "outputs": [
    {
     "name": "stdout",
     "output_type": "stream",
     "text": [
      "0.125\n",
      "0.25\n",
      "0.5\n",
      "0.75\n",
      "1.0\n"
     ]
    }
   ],
   "source": [
    "props = [0.125, .25, .5, .75, 1.]\n",
    "names = ['pore','equi']\n",
    "\n",
    "mae_p = []\n",
    "mse_p = []\n",
    "\n",
    "\n",
    "mae_e = []\n",
    "mse_e = []\n",
    "\n",
    "mae_p_ci = []\n",
    "mse_p_ci = []\n",
    "\n",
    "\n",
    "mae_e_ci = []\n",
    "mse_e_ci = []\n",
    "\n",
    "\n",
    "mae_s = []\n",
    "mse_s = []\n",
    "\n",
    "mae_s_ci = []\n",
    "mse_s_ci = []\n",
    "\n",
    "\n",
    "for i in props:\n",
    "    \n",
    "    _mae_p = []\n",
    "    _mse_p = []\n",
    "    _mae_e = []\n",
    "    _mse_e = []\n",
    "    _mae_s = []\n",
    "    _mse_s = []\n",
    "    \n",
    "    for j in range(1,11):\n",
    "    \n",
    "        mpnn.load_state_dict(torch.load(f'model_data/{i}/pore/model_{j}/model.pth'))\n",
    "        y_pred, y_true = mpnn.predict(testloader)\n",
    "\n",
    "        _mse = ((y_pred - y_true)**2).mean().item()\n",
    "        _mae = (y_pred - y_true).abs().mean().item()\n",
    "\n",
    "        _mae_p.append(_mae)\n",
    "        _mse_p.append(_mse)\n",
    "\n",
    "        mpnn2.load_state_dict(torch.load(f'model_data/{i}/equi/model_{j}/model.pth'))\n",
    "        y_pred, y_true = mpnn2.predict(testloader2)\n",
    "\n",
    "        _mse = ((y_pred - y_true)**2).mean().item()\n",
    "        _mae = (y_pred - y_true).abs().mean().item()\n",
    "\n",
    "        _mae_e.append(_mae)\n",
    "        _mse_e.append(_mse)\n",
    "    \n",
    "    \n",
    "        sch.load_state_dict(torch.load(f'model_data/{i}/schnet/model_{j}/model.pth'))\n",
    "        y_pred, y_true = sch.predict(testloader2)\n",
    "\n",
    "        _mse = ((y_pred - y_true)**2).mean().item()\n",
    "        _mae = (y_pred - y_true).abs().mean().item()\n",
    "\n",
    "        _mae_s.append(_mae)\n",
    "        _mse_s.append(_mse)\n",
    "    \n",
    "    mae_p.append(np.mean(_mae_p))\n",
    "    mse_p.append(np.mean(_mse_p))\n",
    "    mae_e.append(np.mean(_mae_e))\n",
    "    mse_e.append(np.mean(_mse_e))\n",
    "    mae_s.append(np.mean(_mae_s))\n",
    "    mse_s.append(np.mean(_mse_s))\n",
    "\n",
    "    \n",
    "    mae_p_ci.append(get_95_CI(_mae_p))\n",
    "    mse_p_ci.append(get_95_CI(_mse_p))\n",
    "    mae_e_ci.append(get_95_CI(_mae_e))\n",
    "    mse_e_ci.append(get_95_CI(_mse_e))\n",
    "    mae_s_ci.append(get_95_CI(_mae_s))\n",
    "    mse_s_ci.append(get_95_CI(_mse_s))\n",
    "\n",
    "    print(i)\n",
    "    "
   ]
  },
  {
   "cell_type": "code",
   "execution_count": 25,
   "id": "504a9afd-9a2d-442c-8eb2-7231622d59dc",
   "metadata": {},
   "outputs": [
    {
     "name": "stdout",
     "output_type": "stream",
     "text": [
      "1\n",
      "2\n",
      "3\n",
      "4\n",
      "5\n",
      "6\n",
      "7\n",
      "8\n",
      "9\n",
      "10\n"
     ]
    }
   ],
   "source": [
    "mae_sch = []\n",
    "mse_sch = []\n",
    "\n",
    "mae_meg = []\n",
    "mse_meg = []\n",
    "\n",
    "mae_cg = []\n",
    "mse_cg = []\n",
    "\n",
    "for j in range(1,11):\n",
    "    \n",
    "    sch.load_state_dict(torch.load(f'model_data/1.0/schnet/model_{j}/model.pth'))\n",
    "\n",
    "    y_pred, y_true = sch.predict(testloader2)\n",
    "    _mse = ((y_pred - y_true)**2).mean().item()\n",
    "    _mae = (y_pred - y_true).abs().mean().item()\n",
    "\n",
    "    mae_sch.append(_mae)\n",
    "    mse_sch.append(_mse)\n",
    "\n",
    "    meg.load_state_dict(torch.load(f'model_data/1.0/megnet/model_{j}/model.pth'))\n",
    "    y_pred, y_true = meg.predict(testloader3)\n",
    "\n",
    "    _mse = ((y_pred - y_true)**2).mean().item()\n",
    "    _mae = (y_pred - y_true).abs().mean().item()\n",
    "\n",
    "    mae_meg.append(_mae)\n",
    "    mse_meg.append(_mse)\n",
    "    \n",
    "    \n",
    "    cgcnn.load_state_dict(torch.load(f'model_data/1.0/cgcnn/model_{j}/model.pth'))\n",
    "    y_pred, y_true = cgcnn.predict(testloader2)\n",
    "\n",
    "    _mse = ((y_pred - y_true)**2).mean().item()\n",
    "    _mae = (y_pred - y_true).abs().mean().item()\n",
    "\n",
    "    mae_cg.append(_mae)\n",
    "    mse_cg.append(_mse)\n",
    "    \n",
    "    \n",
    "    print(j)\n",
    "    "
   ]
  },
  {
   "cell_type": "code",
   "execution_count": 26,
   "id": "589aac4e-82be-451c-8b76-61df2707c88a",
   "metadata": {},
   "outputs": [],
   "source": [
    "maes = [mae_cg, mae_meg, mae_sch, _mae_e, _mae_p]\n",
    "mses = [mse_cg, mse_meg, mse_sch, _mse_e, _mse_p]"
   ]
  },
  {
   "cell_type": "code",
   "execution_count": null,
   "id": "93525da8-ec55-48df-a618-d6d13775d0cb",
   "metadata": {},
   "outputs": [],
   "source": []
  },
  {
   "cell_type": "code",
   "execution_count": 27,
   "id": "7d7b8598-be2d-4b72-9c36-4db4c33b13aa",
   "metadata": {},
   "outputs": [],
   "source": [
    "df = pd.DataFrame(columns = ['MAE','MSE'], index=['CGCNN','MEGNet','SchNet','Ours (without pores)', 'Ours (with pores)'])\n",
    "for i in range(len(df.index)):\n",
    "    \n",
    "    mu_a = np.mean(maes[i]).round(3)\n",
    "    mu_s = np.mean(mses[i]).round(3)\n",
    "    \n",
    "    ci_a = get_95_CI(maes[i]).round(3)\n",
    "    ci_s = get_95_CI(mses[i]).round(3)\n",
    "    \n",
    "    \n",
    "    a = fr'{mu_a} $$\\pm$$ {ci_a}'\n",
    "    s = fr'{mu_s} $$\\pm$$ {ci_s}'\n",
    "    \n",
    "    df.loc[df.index[i]] = [a,s]"
   ]
  },
  {
   "cell_type": "code",
   "execution_count": 28,
   "id": "7915e86c-5317-480f-b780-3aa80891fed4",
   "metadata": {},
   "outputs": [
    {
     "name": "stdout",
     "output_type": "stream",
     "text": [
      "\\begin{tabular}{lll}\n",
      "\\toprule\n",
      "{} &                  MAE &                  MSE \\\\\n",
      "\\midrule\n",
      "CGCNN                &  1.618 $$\\pm$$ 0.112 &  4.511 $$\\pm$$ 0.493 \\\\\n",
      "MEGNet               &  1.397 $$\\pm$$ 0.062 &  3.627 $$\\pm$$ 0.241 \\\\\n",
      "SchNet               &  1.123 $$\\pm$$ 0.059 &  2.227 $$\\pm$$ 0.189 \\\\\n",
      "Ours (without pores) &  1.378 $$\\pm$$ 0.136 &  3.158 $$\\pm$$ 0.521 \\\\\n",
      "Ours (with pores)    &  1.002 $$\\pm$$ 0.032 &  1.742 $$\\pm$$ 0.099 \\\\\n",
      "\\bottomrule\n",
      "\\end{tabular}\n",
      "\n"
     ]
    },
    {
     "name": "stderr",
     "output_type": "stream",
     "text": [
      "C:\\Users\\Marko\\AppData\\Local\\Temp\\ipykernel_12252\\4079661275.py:1: FutureWarning: In future versions `DataFrame.to_latex` is expected to utilise the base implementation of `Styler.to_latex` for formatting and rendering. The arguments signature may therefore change. It is recommended instead to use `DataFrame.style.to_latex` which also contains additional functionality.\n",
      "  print(df.to_latex(escape=False))\n"
     ]
    }
   ],
   "source": [
    "print(df.to_latex(escape=False))"
   ]
  },
  {
   "cell_type": "code",
   "execution_count": null,
   "id": "f4ee8bbe-e515-4107-94d9-3c2d0131e98e",
   "metadata": {},
   "outputs": [],
   "source": []
  },
  {
   "cell_type": "code",
   "execution_count": 29,
   "id": "c7eb7227-a98b-412a-9647-79e7a10bbb3a",
   "metadata": {},
   "outputs": [
    {
     "data": {
      "text/plain": [
       "(1.0016526758670807,\n",
       " 0.032368414045069516,\n",
       " 1.1225712895393372,\n",
       " 0.05879500680677597)"
      ]
     },
     "execution_count": 29,
     "metadata": {},
     "output_type": "execute_result"
    }
   ],
   "source": [
    "np.mean(_mae_p), get_95_CI(_mae_p), np.mean(mae_sch), get_95_CI(mae_sch)"
   ]
  },
  {
   "cell_type": "code",
   "execution_count": 30,
   "id": "048c65a0-7f3e-4b10-b790-f7192117bba2",
   "metadata": {},
   "outputs": [],
   "source": [
    "mae_p = np.array(mae_p)\n",
    "mse_p = np.array(mse_p)\n",
    "mae_e = np.array(mae_e)\n",
    "mse_e = np.array(mse_e)\n",
    "mae_s = np.array(mae_s)\n",
    "mse_s = np.array(mse_s)\n",
    "\n",
    "mae_p_ci = np.array(mae_p_ci)\n",
    "mse_p_ci = np.array(mse_p_ci)\n",
    "mae_e_ci = np.array(mae_e_ci)\n",
    "mse_e_ci = np.array(mse_e_ci)\n",
    "mae_s_ci = np.array(mae_s_ci)\n",
    "mse_s_ci = np.array(mse_s_ci)"
   ]
  },
  {
   "cell_type": "code",
   "execution_count": 31,
   "id": "eadb68f2-5cf3-4052-864c-d4b45483c080",
   "metadata": {},
   "outputs": [],
   "source": [
    "props2 = np.array(props)*len(trainloader.dataset)"
   ]
  },
  {
   "cell_type": "code",
   "execution_count": 32,
   "id": "7beac1a6-b307-40cc-95a3-e58e5bb2e338",
   "metadata": {},
   "outputs": [
    {
     "data": {
      "image/png": "[encoded data removed]",
      "text/plain": [
       "<Figure size 225x175 with 1 Axes>"
      ]
     },
     "metadata": {},
     "output_type": "display_data"
    }
   ],
   "source": [
    "plt.figure(figsize=(2.25,1.75))\n",
    "plt.plot(props2, mae_p, c='red', label = 'w/ pores', marker='x', markersize=3.75, lw=.75)\n",
    "plt.errorbar(props2, mae_p, mae_p_ci, c='red', capsize=2.5, fmt='none', lw=.75)\n",
    "#plt.fill_between(props2, mae_p-mae_p_ci, mae_p+mae_p_ci, color='red', alpha=.3)\n",
    "plt.plot(props2, mae_e, c='blue', label = 'w/o pores', marker='x', markersize=3.75, lw=.75)\n",
    "plt.errorbar(props2, mae_e, mae_e_ci, c ='blue', capsize=2.5, fmt='none', lw=.75)\n",
    "#plt.fill_between(props2, mae_e-mae_e_ci, mae_e+mae_e_ci, color='blue', alpha=.3)\n",
    "plt.plot(props2, mae_s, c='green', label = 'SchNet', marker='x', markersize=3.75, lw=.75)\n",
    "plt.errorbar(props2, mae_s, mae_s_ci,c='green', capsize=2.5, fmt='none', lw=.75)\n",
    "#plt.fill_between(props2, mae_s-mae_s_ci, mae_s+mae_s_ci, color='green', alpha=.3)\n",
    "\n",
    "plt.xlabel('Amount of training datapoints', fontsize=label_size)\n",
    "plt.ylabel('MAE', fontsize=label_size)\n",
    "plt.title('MAE for different training set sizes', fontsize=title_size)\n",
    "plt.legend(fontsize=6, loc='lower left', framealpha=0.5)\n",
    "plt.xticks(fontsize=6)\n",
    "plt.yticks(fontsize=6)\n",
    "plt.xlim(props2.min()-100, props2.max()+100)\n",
    "plt.savefig('figures/mae2.pdf', dpi=1200, bbox_inches = \"tight\")\n",
    "#plt.savefig('figures/mae2.eps', dpi=1200, bbox_inches = \"tight\");"
   ]
  },
  {
   "cell_type": "code",
   "execution_count": 33,
   "id": "c2ecbf32-238b-432b-84a3-a3648977dd5a",
   "metadata": {},
   "outputs": [
    {
     "data": {
      "image/png": "[encoded data removed]",
      "text/plain": [
       "<Figure size 225x175 with 1 Axes>"
      ]
     },
     "metadata": {},
     "output_type": "display_data"
    }
   ],
   "source": [
    "plt.figure(figsize=(2.25,1.75))\n",
    "plt.plot(props2, mse_p, c='red', label = 'w/ pores', marker='x', markersize=3.75, lw=.75)\n",
    "plt.errorbar(props2, mse_p, mse_p_ci, c='red', capsize=2.5, fmt='none', lw=.75)\n",
    "#plt.fill_between(props2, mae_p-mae_p_ci, mae_p+mae_p_ci, color='red', alpha=.3)\n",
    "plt.plot(props2, mse_e, c='blue', label = 'w/o pores', marker='x', markersize=3.75, lw=.75)\n",
    "plt.errorbar(props2, mse_e, mse_e_ci, c ='blue', capsize=2.5, fmt='none', lw=.75)\n",
    "#plt.fill_between(props2, mae_e-mae_e_ci, mae_e+mae_e_ci, color='blue', alpha=.3)\n",
    "plt.plot(props2, mse_s, c='green', label = 'SchNet', marker='x', markersize=3.75, lw=.75)\n",
    "plt.errorbar(props2, mse_s, mse_s_ci,c='green', capsize=2.5, fmt='none', lw=.75)\n",
    "#plt.fill_between(props2, mae_s-mae_s_ci, mae_s+mae_s_ci, color='green', alpha=.3)\n",
    "\n",
    "plt.xlabel('Amount of training datapoints', fontsize=label_size)\n",
    "plt.ylabel('MSE', fontsize=label_size)\n",
    "plt.title('MSE for different training set sizes', fontsize=title_size)\n",
    "plt.legend(fontsize=6, loc='lower left', framealpha=0.5)\n",
    "plt.xticks(fontsize=6)\n",
    "plt.yticks(np.arange(1.8,4.6,7/10), [1.8,2.5,3.2,3.9],fontsize=6)\n",
    "plt.xlim(props2.min()-100, props2.max()+100)\n",
    "plt.savefig('figures/mse2.pdf', dpi=1200, bbox_inches = \"tight\")\n",
    "#plt.savefig('figures/mse2.eps', dpi=1200, bbox_inches = \"tight\");"
   ]
  },
  {
   "cell_type": "code",
   "execution_count": 34,
   "id": "dfdd117a-57e6-4de5-82a0-35793aafd820",
   "metadata": {},
   "outputs": [
    {
     "data": {
      "image/png": "[encoded data removed]",
      "text/plain": [
       "<Figure size 600x450 with 1 Axes>"
      ]
     },
     "metadata": {},
     "output_type": "display_data"
    }
   ],
   "source": [
    "plt.figure(figsize=(6,4.5))\n",
    "plt.plot(props2, mse_p, c='red', label = 'MSE with pores')\n",
    "plt.fill_between(props2, mse_p-mse_p_ci, mse_p+mse_p_ci, color='red', alpha=.3)\n",
    "plt.plot(props2, mse_e, c='blue', label = 'MSE without pores')\n",
    "plt.fill_between(props2, mse_e-mse_e_ci, mse_e+mse_e_ci, color='blue', alpha=.3)\n",
    "plt.plot(props2, mse_s, c='green', label = 'MSE SchNet')\n",
    "plt.fill_between(props2, mse_s-mse_s_ci, mse_s+mse_s_ci, color='green', alpha=.3)\n",
    "\n",
    "plt.xlabel('Amount of training datapoints')\n",
    "plt.ylabel('MSE')\n",
    "plt.title('MSE when using different amounts of training data')\n",
    "plt.legend()\n",
    "plt.xlim(props2.min(), props2.max())\n",
    "plt.savefig('figures/mse.pdf', dpi=1200);"
   ]
  },
  {
   "cell_type": "code",
   "execution_count": 35,
   "id": "1bf1b325-f49c-4d0e-bbf1-daaf4908c4bf",
   "metadata": {},
   "outputs": [],
   "source": [
    "color = np.zeros((X.shape[0],))\n",
    "for i in range(len(X)):\n",
    "    \n",
    "    for j in range(4):\n",
    "        \n",
    "        for k in range(ref.shape[0]):\n",
    "            \n",
    "            if np.abs(X[i] - (np.mod(ref[k]*X[j] + tra[k], 1))).sum() < 0.001:\n",
    "                \n",
    "                color[i] = j\n",
    "                \n",
    "                break\n",
    "        "
   ]
  },
  {
   "cell_type": "code",
   "execution_count": 36,
   "id": "49eae0dd-83e6-495f-a347-fa254e14c8f0",
   "metadata": {},
   "outputs": [],
   "source": [
    "color2 = np.zeros((X_pore.shape[0],))\n",
    "for i in range(len(X_pore)):\n",
    "    \n",
    "    for j in [0,2,4]:\n",
    "        \n",
    "        for k in range(ref.shape[0]):\n",
    "            \n",
    "            if np.abs(X_pore[i] - (np.mod(ref[k]*X_pore[j] + tra[k], 1))).sum() < 0.001:\n",
    "                \n",
    "                color2[i] = j\n",
    "                \n",
    "                break"
   ]
  },
  {
   "cell_type": "code",
   "execution_count": 37,
   "id": "47a98baa-8555-40d2-a967-c854628b6b18",
   "metadata": {},
   "outputs": [
    {
     "data": {
      "text/plain": [
       "array([0., 0., 2., 2., 4., 4., 4., 4., 4., 4., 4., 4.])"
      ]
     },
     "execution_count": 37,
     "metadata": {},
     "output_type": "execute_result"
    }
   ],
   "source": [
    "color2"
   ]
  },
  {
   "cell_type": "code",
   "execution_count": null,
   "id": "dd9b11ee-7e1f-48f1-b78e-f3115575f52b",
   "metadata": {},
   "outputs": [],
   "source": []
  },
  {
   "cell_type": "code",
   "execution_count": null,
   "id": "00188bc3-6252-4068-b21c-3df0d991e02c",
   "metadata": {},
   "outputs": [],
   "source": []
  },
  {
   "cell_type": "code",
   "execution_count": 38,
   "id": "12f17a13-0fb0-407b-9ac6-da075b84e400",
   "metadata": {},
   "outputs": [],
   "source": [
    "ce_dict = {}\n",
    "row, col = np.nonzero(A)\n",
    "n_c = 0\n",
    "for i in range(len(row)):\n",
    "    \n",
    "    added = False\n",
    "    \n",
    "    r,c = row[i], col[i]\n",
    "    \n",
    "    for j in ce_dict:\n",
    "        \n",
    "        if added: break\n",
    "        \n",
    "        test = ce_dict[j][0]\n",
    "        \n",
    "        test_r = X[test[0]]\n",
    "        test_c = X[test[1]]\n",
    "        \n",
    "        \n",
    "        for k in range(ref.shape[0]):\n",
    "            \n",
    "            r1 = np.mod(ref[k]*X[r] + tra[k], 1)\n",
    "            r2 = np.mod(ref[k]*X[c] + tra[k], 1)\n",
    "            \n",
    "            if np.abs(r1-test_r).sum() < 0.001 and np.abs(r2-test_c).sum() < 0.001:\n",
    "                \n",
    "                ce_dict[j].append((r,c))\n",
    "                \n",
    "                added = True\n",
    "                break\n",
    "        \n",
    "    if not added:\n",
    "        ce_dict[n_c] = [(r,c)]\n",
    "        n_c += 1"
   ]
  },
  {
   "cell_type": "code",
   "execution_count": 39,
   "id": "97f29208-95a2-40af-bfbf-06e8a9abadad",
   "metadata": {},
   "outputs": [
    {
     "data": {
      "text/plain": [
       "((48, 12), 128)"
      ]
     },
     "execution_count": 39,
     "metadata": {},
     "output_type": "execute_result"
    }
   ],
   "source": [
    "A_pore.shape, A_pore.sum()"
   ]
  },
  {
   "cell_type": "code",
   "execution_count": 40,
   "id": "98469c07-d926-4764-8a32-5cdad71db7a1",
   "metadata": {},
   "outputs": [],
   "source": [
    "cp_dict = {}\n",
    "row, col = np.nonzero(A_pore)\n",
    "n_c = 0\n",
    "for i in range(len(row)):\n",
    "    \n",
    "    added = False\n",
    "    \n",
    "    r,c = row[i], col[i]\n",
    "    \n",
    "    for j in cp_dict:\n",
    "        \n",
    "        if added: break\n",
    "        \n",
    "        test = cp_dict[j][0]\n",
    "        \n",
    "        test_r = X[test[0]]\n",
    "        test_c = X_pore[test[1]]\n",
    "        \n",
    "        \n",
    "        for k in range(ref.shape[0]):\n",
    "            \n",
    "            r1 = np.mod(ref[k]*X[r] + tra[k], 1)\n",
    "            r2 = np.mod(ref[k]*X_pore[c] + tra[k], 1)\n",
    "            \n",
    "            if np.abs(r1-test_r).sum() < 0.001 and np.abs(r2-test_c).sum() < 0.001:\n",
    "                \n",
    "                cp_dict[j].append((r,c))\n",
    "                \n",
    "                added = True\n",
    "                break\n",
    "        \n",
    "    if not added:\n",
    "        cp_dict[n_c] = [(r,c)]\n",
    "        n_c += 1"
   ]
  },
  {
   "cell_type": "code",
   "execution_count": 41,
   "id": "0f3e345b-291b-4917-98d0-8d56edb06ed5",
   "metadata": {},
   "outputs": [
    {
     "data": {
      "text/plain": [
       "(dict_keys([0, 1, 2, 3, 4, 5, 6, 7, 8, 9, 10, 11, 12, 13]),\n",
       " dict_keys([0, 1, 2, 3, 4, 5, 6, 7, 8, 9, 10, 11, 12, 13, 14, 15]))"
      ]
     },
     "execution_count": 41,
     "metadata": {},
     "output_type": "execute_result"
    }
   ],
   "source": [
    "ce_dict.keys(), cp_dict.keys()"
   ]
  },
  {
   "cell_type": "code",
   "execution_count": 42,
   "id": "8f9932c9-f7c9-4f2d-8ca2-40b2d48a8e7b",
   "metadata": {},
   "outputs": [
    {
     "data": {
      "image/png": "[encoded data removed]",
      "text/plain": [
       "<Figure size 456.4x513.35 with 1 Axes>"
      ]
     },
     "metadata": {},
     "output_type": "display_data"
    }
   ],
   "source": [
    "plt.figure(figsize=(18.256/4, 20.534/4))\n",
    "for i in ce_dict:\n",
    "    x = 0\n",
    "    for j in ce_dict[i]:\n",
    "        \n",
    "        x1, x2 = X[j[0]].copy(), X[j[1]].copy()\n",
    "        \n",
    "        d = x2-x1\n",
    "        \n",
    "        for _d in range(3):\n",
    "            \n",
    "            if d[_d] > 0.5:\n",
    "                \n",
    "                x2[_d] -= 1\n",
    "            \n",
    "            elif d[_d] < -.5:\n",
    "                \n",
    "                x2[_d] += 1\n",
    "            \n",
    "        \n",
    "        \n",
    "        \n",
    "        if x == 0:\n",
    "            \n",
    "            line = plt.plot([x1[0], x2[0]], [x1[1], x2[1]], lw=4, zorder=5)\n",
    "            plt.plot([x1[0], x2[0]], [x1[1], x2[1]], lw=6, c='black', zorder=4)\n",
    "        \n",
    "        plt.plot([x1[0], x2[0]], [x1[1], x2[1]], c= line[0].get_c(),lw=4, zorder=5)\n",
    "        plt.plot([x1[0], x2[0]], [x1[1], x2[1]], c= 'black',lw=6, zorder=4)\n",
    "        x+=1\n",
    "        \n",
    "        \n",
    "# for i in cp_dict:\n",
    "#     x = 0\n",
    "#     for j in cp_dict[i]:\n",
    "        \n",
    "#         x1, x2 = X[j[0]].copy(), X_pore[j[1]].copy()\n",
    "        \n",
    "#         d = x2-x1\n",
    "        \n",
    "#         for _d in range(3):\n",
    "            \n",
    "#             if d[_d] > 0.5:\n",
    "                \n",
    "#                 x2[_d] -= 1\n",
    "            \n",
    "#             elif d[_d] < -.5:\n",
    "                \n",
    "#                 x2[_d] += 1\n",
    "            \n",
    "        \n",
    "        \n",
    "        \n",
    "#         if x == 0:\n",
    "            \n",
    "#             line = plt.plot([x1[0], x2[0]], [x1[1], x2[1]],lw=2,ls='--')\n",
    "        \n",
    "#         plt.plot([x1[0], x2[0]], [x1[1], x2[1]], c= line[0].get_c(),lw=2,ls='--')\n",
    "#         x+=1\n",
    "        \n",
    "plt.scatter(X[:,0], X[:,1], c=color, s=350, zorder=10, edgecolors='black')\n",
    "#plt.scatter(X[:,0], X[:,1], c='black', s=500, zorder=9)\n",
    "# plt.scatter(X_pore[:,0], X_pore[:,1], s=150, zorder=10, c=color2, marker='s')\n",
    "# plt.scatter(X_pore[:,0]+1, X_pore[:,1], s=150, zorder=10, c=color2, marker='s')\n",
    "# plt.scatter(X_pore[:,0], X_pore[:,1]+1, s=150, zorder=10, c=color2, marker='s')\n",
    "# plt.scatter(X_pore[:,0]+1, X_pore[:,1]+1, s=150, zorder=10, c=color2, marker='s')\n",
    "plt.xlim(0,1)\n",
    "plt.ylim(0,1)\n",
    "plt.xticks([],[])\n",
    "plt.yticks([],[])\n",
    "plt.savefig('figures/weight_sharing.svg', bbox_inches='tight', dpi=1200)\n",
    "plt.savefig('figures/weight_sharing.pdf', bbox_inches='tight', dpi=1200);"
   ]
  },
  {
   "cell_type": "code",
   "execution_count": 43,
   "id": "6044b4e9-94f1-4118-b339-6f125b6a2798",
   "metadata": {},
   "outputs": [
    {
     "data": {
      "text/plain": [
       "array([18.256, 20.534,  7.542])"
      ]
     },
     "execution_count": 43,
     "metadata": {},
     "output_type": "execute_result"
    }
   ],
   "source": [
    "l"
   ]
  },
  {
   "cell_type": "code",
   "execution_count": 44,
   "id": "92ab255c-c850-4450-8a5e-6234facb84f9",
   "metadata": {},
   "outputs": [
    {
     "data": {
      "text/plain": [
       "'#d62728'"
      ]
     },
     "execution_count": 44,
     "metadata": {},
     "output_type": "execute_result"
    }
   ],
   "source": [
    "line[0].get_c()"
   ]
  },
  {
   "cell_type": "code",
   "execution_count": 45,
   "id": "a0b12b3c-89ea-44c5-b451-de5b9f1cc0c5",
   "metadata": {},
   "outputs": [
    {
     "data": {
      "text/plain": [
       "9"
      ]
     },
     "execution_count": 45,
     "metadata": {},
     "output_type": "execute_result"
    }
   ],
   "source": [
    "c"
   ]
  },
  {
   "cell_type": "code",
   "execution_count": 46,
   "id": "a6e7d2fc-4af0-4203-97bc-2047ec2bb01c",
   "metadata": {},
   "outputs": [],
   "source": [
    "best_idx = np.argmin(_mae_p)\n",
    "mpnn.load_state_dict(torch.load(f'model_data/1.0/pore/model_{best_idx+1}/model.pth'))\n",
    "y_pred, y_true = mpnn.predict(testloader)"
   ]
  },
  {
   "cell_type": "code",
   "execution_count": 47,
   "id": "48f2ee40-4ce0-4080-8b36-a57d5f4d7da1",
   "metadata": {},
   "outputs": [],
   "source": [
    "from scipy.interpolate import griddata"
   ]
  },
  {
   "cell_type": "code",
   "execution_count": 48,
   "id": "b1a66634-c794-4e8c-8cb2-845c30c1cf1b",
   "metadata": {},
   "outputs": [
    {
     "data": {
      "text/plain": [
       "(tensor(35.5746), tensor(48.1032), tensor(35.5141), tensor(51.0956))"
      ]
     },
     "execution_count": 48,
     "metadata": {},
     "output_type": "execute_result"
    }
   ],
   "source": [
    "y_pred.min(), y_pred.max(), y_true.min(), y_true.max()"
   ]
  },
  {
   "cell_type": "code",
   "execution_count": 49,
   "id": "f9da6dd8-182a-47d7-a5dc-d012cd94daba",
   "metadata": {},
   "outputs": [],
   "source": [
    "Z = torch.ones_like(y_pred)"
   ]
  },
  {
   "cell_type": "code",
   "execution_count": 50,
   "id": "a821a4bc-71aa-4710-b522-289eae3844b1",
   "metadata": {},
   "outputs": [],
   "source": [
    "nn = 100\n",
    "xmin = 34\n",
    "xmax = 52\n",
    "xi = np.linspace(xmin, xmax, nn)\n",
    "yi = np.linspace(xmin, xmax, nn)"
   ]
  },
  {
   "cell_type": "code",
   "execution_count": 51,
   "id": "5cbb4cdf-d733-479f-9823-fba8f5786d32",
   "metadata": {},
   "outputs": [],
   "source": [
    "#xi.shape, yi.shape, xi, yi"
   ]
  },
  {
   "cell_type": "code",
   "execution_count": 52,
   "id": "701adc9b-c415-4b5e-a60f-2ef721f3b177",
   "metadata": {},
   "outputs": [],
   "source": [
    "zi = np.zeros((nn,nn))\n",
    "\n",
    "for i in range(len(y_pred)):\n",
    "    \n",
    "    curr_p = y_pred[i].item()\n",
    "    curr_t = y_true[i].item()\n",
    "    \n",
    "    for _x in range(0,nn-1):\n",
    "        \n",
    "        if xi[_x] < curr_p <= xi[_x+1]:\n",
    "            \n",
    "            for _y in range(0,nn-1):\n",
    "                \n",
    "                if yi[_y] < curr_t <= xi[_y+1]:\n",
    "                    \n",
    "                    zi[_x,_y] += 1"
   ]
  },
  {
   "cell_type": "code",
   "execution_count": 53,
   "id": "554bb8f6-f026-475a-b1be-74eb3d4cd544",
   "metadata": {},
   "outputs": [
    {
     "data": {
      "text/plain": [
       "(100, 100)"
      ]
     },
     "execution_count": 53,
     "metadata": {},
     "output_type": "execute_result"
    }
   ],
   "source": [
    "zi.shape"
   ]
  },
  {
   "cell_type": "code",
   "execution_count": 54,
   "id": "5ae18ead-74aa-4594-9604-0892e15fefe6",
   "metadata": {},
   "outputs": [
    {
     "data": {
      "text/plain": [
       "array([ 0,  0,  0,  0,  0,  0,  0,  0, 17,  0, 15,  0,  0,  0,  0,  0,  0,\n",
       "        0,  0,  8, 18, 27, 33,  0,  0, 17, 17,  0, 35, 24, 21, 30, 32, 42,\n",
       "       27, 33, 57, 45, 30, 37, 39, 17, 48, 39, 45, 41, 41, 40, 48, 45, 54,\n",
       "       47, 50, 49, 51, 52, 48, 53, 57, 53, 58, 58, 58, 58, 62, 61, 56, 53,\n",
       "        0, 61, 56, 74, 63,  0,  0,  0, 61, 94,  0,  0,  0,  0,  0,  0,  0,\n",
       "        0,  0,  0,  0,  0,  0,  0,  0,  0,  0,  0,  0,  0,  0,  0],\n",
       "      dtype=int64)"
      ]
     },
     "execution_count": 54,
     "metadata": {},
     "output_type": "execute_result"
    }
   ],
   "source": [
    "zi.argmax(axis=1)"
   ]
  },
  {
   "cell_type": "code",
   "execution_count": 55,
   "id": "29bd91db-c620-49fe-94f3-bd097c376a33",
   "metadata": {},
   "outputs": [
    {
     "name": "stderr",
     "output_type": "stream",
     "text": [
      "C:\\Users\\Marko\\AppData\\Local\\Temp\\ipykernel_12252\\4168279679.py:2: MatplotlibDeprecationWarning: The get_cmap function was deprecated in Matplotlib 3.7 and will be removed two minor releases later. Use ``matplotlib.colormaps[name]`` or ``matplotlib.colormaps.get_cmap(obj)`` instead.\n",
      "  cmap = plt.cm.get_cmap('Blues', 6)\n"
     ]
    },
    {
     "data": {
      "image/png": "[encoded data removed]",
      "text/plain": [
       "<Figure size 325x225 with 2 Axes>"
      ]
     },
     "metadata": {},
     "output_type": "display_data"
    }
   ],
   "source": [
    "fig, ax = plt.subplots(figsize=(3.25,2.25))\n",
    "cmap = plt.cm.get_cmap('Blues', 6)\n",
    "CS = plt.pcolormesh(xi, yi, zi,\n",
    "                  vmax=zi.max(), vmin=0, cmap=cmap)\n",
    "plt.xlabel(f\"True CO$_2$ HoA (kJ/mol)\", fontsize=label_size)\n",
    "plt.ylabel(f\"Predicted CO$_2$ HoA (kJ/mol)\", fontsize=label_size)\n",
    "plt.title(\"Model performance on testing set\", fontsize=title_size)\n",
    "ax.plot(ax.get_xlim(), ax.get_ylim(), ls=\"--\", c=\".5\", lw=.5)\n",
    "cbar = plt.colorbar()\n",
    "cbar.ax.get_yaxis().labelpad = 12\n",
    "cbar.set_label('Count', rotation=270, fontsize=label_size)\n",
    "cbar.ax.get_yaxis().set_ticks(np.arange(5/12., 5, 5/6), [0,1,2,3,4,5] )\n",
    "cbar.ax.tick_params(labelsize=6)\n",
    "plt.xticks(plt.yticks()[0])\n",
    "plt.xticks(fontsize=6)\n",
    "plt.yticks(fontsize=6)\n",
    "plt.xlim(xmin,xmax)\n",
    "plt.ylim(xmin,xmax)\n",
    "\n",
    "plt.savefig('figures/truepred.svg', dpi=1200, bbox_inches=\"tight\")\n",
    "plt.savefig('figures/truepred.pdf', dpi=1200, bbox_inches=\"tight\")"
   ]
  },
  {
   "cell_type": "code",
   "execution_count": 58,
   "id": "868bec6d-c27e-4d1b-80fd-73c63bbea0c7",
   "metadata": {},
   "outputs": [
    {
     "data": {
      "text/plain": [
       "array([0.41666667, 1.25      , 2.08333333, 2.91666667, 3.75      ,\n",
       "       4.58333333])"
      ]
     },
     "execution_count": 58,
     "metadata": {},
     "output_type": "execute_result"
    }
   ],
   "source": [
    "np.arange(5/12., 5, 5/6)"
   ]
  },
  {
   "cell_type": "code",
   "execution_count": 59,
   "id": "90c51050-23fd-4fe1-877b-c0e6094b17da",
   "metadata": {},
   "outputs": [
    {
     "data": {
      "text/plain": [
       "0.8333333333333334"
      ]
     },
     "execution_count": 59,
     "metadata": {},
     "output_type": "execute_result"
    }
   ],
   "source": [
    "5/6"
   ]
  },
  {
   "cell_type": "code",
   "execution_count": 60,
   "id": "36eb39fb-27ba-42d5-b468-3097e44f12ac",
   "metadata": {},
   "outputs": [],
   "source": [
    "yax = cbar.ax.get_yaxis()"
   ]
  },
  {
   "cell_type": "code",
   "execution_count": 61,
   "id": "0cbf3d00-f9d9-4cb3-9a52-a0d5e108733e",
   "metadata": {},
   "outputs": [
    {
     "data": {
      "text/plain": [
       "array([0.41666667, 1.25      , 2.08333333, 2.91666667, 3.75      ,\n",
       "       4.58333333])"
      ]
     },
     "execution_count": 61,
     "metadata": {},
     "output_type": "execute_result"
    }
   ],
   "source": [
    "yax.get_ticklocs()"
   ]
  },
  {
   "cell_type": "code",
   "execution_count": 62,
   "id": "90495e50-0ee5-4741-8cb6-ce680867c003",
   "metadata": {},
   "outputs": [
    {
     "data": {
      "text/plain": [
       "array([0.5, 1.5, 2.5, 3.5, 4.5])"
      ]
     },
     "execution_count": 62,
     "metadata": {},
     "output_type": "execute_result"
    }
   ],
   "source": [
    "np.arange(0.5, 5.5, 1)"
   ]
  },
  {
   "cell_type": "code",
   "execution_count": 63,
   "id": "fb1362bb-5251-4261-a92f-eb3fccf6e7ed",
   "metadata": {},
   "outputs": [
    {
     "data": {
      "text/plain": [
       "[<matplotlib.lines.Line2D at 0x1f133a38100>]"
      ]
     },
     "execution_count": 63,
     "metadata": {},
     "output_type": "execute_result"
    },
    {
     "data": {
      "image/png": "[encoded data removed]",
      "text/plain": [
       "<Figure size 800x800 with 1 Axes>"
      ]
     },
     "metadata": {},
     "output_type": "display_data"
    },
    {
     "data": {
      "text/plain": [
       "<Figure size 1000x1000 with 0 Axes>"
      ]
     },
     "metadata": {},
     "output_type": "display_data"
    }
   ],
   "source": [
    "fig, ax = plt.subplots(figsize=(8,8))\n",
    "plt.scatter(y_true, y_pred, s=2)\n",
    "plt.xlim(32,52)\n",
    "plt.ylim(32,52)\n",
    "plt.figure(figsize=(10,10))\n",
    "ax.plot(ax.get_xlim(), ax.get_ylim(), ls=\"--\", c=\".5\")"
   ]
  },
  {
   "cell_type": "code",
   "execution_count": 64,
   "id": "255994d7-6ef1-4dcd-8414-8f69650377af",
   "metadata": {},
   "outputs": [
    {
     "data": {
      "text/plain": [
       "(100, 100)"
      ]
     },
     "execution_count": 64,
     "metadata": {},
     "output_type": "execute_result"
    }
   ],
   "source": [
    "yy, xx = np.meshgrid(np.linspace(30, 55, 100), np.linspace(30, 55, 100))\n",
    "\n",
    "yy.shape"
   ]
  },
  {
   "cell_type": "code",
   "execution_count": 65,
   "id": "636430a5-f4d7-456c-a0f0-ee7b783fc056",
   "metadata": {},
   "outputs": [],
   "source": [
    "y, x = np.meshgrid(np.linspace(-3, 3, 100), np.linspace(-3, 3, 100))"
   ]
  },
  {
   "cell_type": "code",
   "execution_count": 66,
   "id": "6369d521-63b9-4aca-9658-b766f87bc9ea",
   "metadata": {},
   "outputs": [],
   "source": [
    "meg.load_state_dict(torch.load(f'model_data/1.0/megnet/model_1/model.pth'))\n",
    "y_pred, y_true = meg.predict(testloader3)\n",
    "_mse = ((y_pred - y_true)**2).mean().item()\n",
    "_mae = (y_pred - y_true).abs().mean().item()"
   ]
  },
  {
   "cell_type": "code",
   "execution_count": 67,
   "id": "16094287-c991-4849-9577-96858cf32307",
   "metadata": {},
   "outputs": [
    {
     "data": {
      "text/plain": [
       "(3.7824950218200684, 1.4541676044464111)"
      ]
     },
     "execution_count": 67,
     "metadata": {},
     "output_type": "execute_result"
    }
   ],
   "source": [
    "_mse, _mae"
   ]
  },
  {
   "cell_type": "code",
   "execution_count": 477,
   "id": "a9f96184-4a71-4777-88e2-5207b1ecb8e9",
   "metadata": {},
   "outputs": [],
   "source": [
    "class hoa_maximizer(nn.Module):\n",
    "    \n",
    "    def __init__(self, bonds, bonds_sp, bonds_ps, pores,atoms=torch.zeros(2,48,1).cuda()):\n",
    "        \n",
    "        super().__init__()\n",
    "        \n",
    "        self.bonds = bonds[None].repeat(atoms.shape[0], 1, 1).float().cuda()\n",
    "        self.bonds_sp = bonds_sp[None].repeat(atoms.shape[0], 1, 1).float().cuda()\n",
    "        self.bonds_ps = bonds_ps[None].repeat(atoms.shape[0], 1, 1).float().cuda()\n",
    "        self.pores = pores[None].repeat(atoms.shape[0], 1, 1).float().cuda()\n",
    "        \n",
    "        self.bonds.requires_grad = False\n",
    "        self.bonds_sp.requires_grad = False\n",
    "        self.bonds_ps.requires_grad = False\n",
    "        self.pores.requires_grad = False\n",
    "        \n",
    "        \n",
    "        self.filter = nn.Hardtanh(0,1)\n",
    "        \n",
    "        self.atoms = nn.Parameter(atoms.float())\n",
    "        \n",
    "        self.cuda()\n",
    "        \n",
    "    def forward(self, opt, model, epoch = 0, print_int = 5, max_ats=12):\n",
    "        \n",
    "        self.train()\n",
    "        \n",
    "        opt.zero_grad()\n",
    "        \n",
    "        atoms1 = self.filter(self.atoms)\n",
    "        \n",
    "        atoms2 = atoms1.round()\n",
    "        \n",
    "        atoms_m = atoms2.sum((1,2)) > max_ats\n",
    "        \n",
    "        if atoms_m.sum() > 0:\n",
    "            \n",
    "            zeros = torch.zeros((atoms2[atoms_m].shape[0], 48, 1)).cuda()\n",
    "            idx = torch.topk(atoms2[atoms_m], max_ats, 1)[1]\n",
    "            zeros = zeros.scatter_(1, idx, 1.0)\n",
    "            atoms2[atoms_m] = zeros\n",
    "        \n",
    "        atoms3 = atoms2 - self.atoms.detach() + self.atoms\n",
    "        \n",
    "        y_hat = model(atoms3, self.bonds, self.pores, self.bonds_sp, self.bonds_ps)\n",
    "        \n",
    "        #ats_sum = (50*(atoms3.sum((1,2)) - 12))**2\n",
    "        \n",
    "        #(-y_hat.mean()+ats_sum.mean()).backward(retain_graph=True)\n",
    "        \n",
    "        (-y_hat.mean()).backward(retain_graph=True)\n",
    "        opt.step()\n",
    "        \n",
    "        _atoms = self.atoms.data.clamp(0.,1.)\n",
    "        self.atoms.data = _atoms\n",
    "        \n",
    "        self.eval()\n",
    "        with torch.no_grad():\n",
    "            \n",
    "            atoms2 = self.filter(self.atoms).round()\n",
    "        \n",
    "            atoms_m = atoms2.sum((1,2)) > max_ats\n",
    "\n",
    "            if atoms_m.sum() > 0:\n",
    "\n",
    "                zeros = torch.zeros((atoms2[atoms_m].shape[0], 48, 1)).cuda()\n",
    "                idx = torch.topk(atoms2[atoms_m], max_ats, 1)[1]\n",
    "                zeros = zeros.scatter_(1, idx, 1.0)\n",
    "                atoms2[atoms_m] = zeros\n",
    "            \n",
    "            \n",
    "            \n",
    "            y_hat = model(atoms2, self.bonds, self.pores, self.bonds_sp, self.bonds_ps)\n",
    "        \n",
    "        if (epoch + 1) % print_int == 0:\n",
    "            print(f'epoch {epoch+1:2} hoa: {y_hat.mean().item()}')\n",
    "        \n",
    "        \n",
    "        return y_hat\n",
    "      \n",
    "        \n",
    "    \n",
    "    def optimize(self, model, epochs=100, print_int=10, max_ats=12):\n",
    "        \n",
    "        optimizer = optim.Adam(self.parameters(), lr=0.005)\n",
    "        \n",
    "        model.requires_grad = False\n",
    "        \n",
    "        y_hats = np.zeros((epochs+1, self.atoms.shape[0]))\n",
    "        \n",
    "        with torch.no_grad():\n",
    "            y_hat = model.forward(self.atoms.round(), self.bonds, self.pores, self.bonds_sp, self.bonds_ps)\n",
    "            y_hats[0] = y_hat.clone().cpu().numpy()[:,0]\n",
    "        \n",
    "        for i in range(epochs):\n",
    "            \n",
    "            y_hat = self.forward(optimizer, model, i, print_int, max_ats)\n",
    "            \n",
    "            y_hats[i+1] = y_hat.clone().cpu().numpy()[:,0]\n",
    "            \n",
    "        atoms2 = self.filter(self.atoms.data).round()\n",
    "        \n",
    "        atoms_m = atoms2.sum((1,2)) > max_ats\n",
    "\n",
    "        if atoms_m.sum() > 0:\n",
    "\n",
    "            zeros = torch.zeros((atoms2[atoms_m].shape[0], 48, 1)).cuda()\n",
    "            idx = torch.topk(atoms2[atoms_m], max_ats, 1)[1]\n",
    "            zeros = zeros.scatter_(1, idx, 1.0)\n",
    "            atoms2[atoms_m] = zeros\n",
    "        \n",
    "        return atoms2, y_hats"
   ]
  },
  {
   "cell_type": "code",
   "execution_count": 478,
   "id": "20ee4201-e4e9-406c-ba6d-42e4e98719f7",
   "metadata": {},
   "outputs": [],
   "source": [
    "opt_dict = {}"
   ]
  },
  {
   "cell_type": "code",
   "execution_count": 488,
   "id": "0a164c2d-f821-425d-acf8-440510b5de62",
   "metadata": {},
   "outputs": [
    {
     "name": "stdout",
     "output_type": "stream",
     "text": [
      "avg number of starting Als 3.5\n",
      "epoch 50 hoa: 34.5784797668457\n",
      "epoch 100 hoa: 33.38103485107422\n",
      "epoch 150 hoa: 34.747100830078125\n",
      "epoch 200 hoa: 39.35572814941406\n",
      "epoch 50 hoa: 34.874290466308594\n",
      "epoch 100 hoa: 38.30986404418945\n",
      "epoch 150 hoa: 40.11918640136719\n",
      "epoch 200 hoa: 40.11918640136719\n",
      "epoch 50 hoa: 34.89177703857422\n",
      "epoch 100 hoa: 36.791900634765625\n",
      "epoch 150 hoa: 36.791900634765625\n",
      "epoch 200 hoa: 37.26873016357422\n",
      "epoch 50 hoa: 32.615501403808594\n",
      "epoch 100 hoa: 37.86260223388672\n",
      "epoch 150 hoa: 38.16989517211914\n",
      "epoch 200 hoa: 39.699459075927734\n",
      "epoch 50 hoa: 35.26380920410156\n",
      "epoch 100 hoa: 36.43418884277344\n",
      "epoch 150 hoa: 39.06488037109375\n",
      "epoch 200 hoa: 39.13382339477539\n",
      "epoch 50 hoa: 33.85039138793945\n",
      "epoch 100 hoa: 37.83848571777344\n",
      "epoch 150 hoa: 38.78731918334961\n",
      "epoch 200 hoa: 38.16286087036133\n",
      "epoch 50 hoa: 30.16740608215332\n",
      "epoch 100 hoa: 30.087465286254883\n",
      "epoch 150 hoa: 30.087465286254883\n",
      "epoch 200 hoa: 30.08746337890625\n",
      "epoch 50 hoa: 29.701702117919922\n",
      "epoch 100 hoa: 36.714599609375\n",
      "epoch 150 hoa: 35.93973159790039\n",
      "epoch 200 hoa: 39.93318176269531\n",
      "avg number of sub Als 5.625 expected Als 6\n",
      "avg number of starting Als 4.0625\n",
      "epoch 50 hoa: 36.197669982910156\n",
      "epoch 100 hoa: 38.61912536621094\n",
      "epoch 150 hoa: 38.61912536621094\n",
      "epoch 200 hoa: 38.61912536621094\n",
      "epoch 50 hoa: 35.026451110839844\n",
      "epoch 100 hoa: 41.644351959228516\n",
      "epoch 150 hoa: 41.862274169921875\n",
      "epoch 200 hoa: 41.23028564453125\n",
      "epoch 50 hoa: 32.41225814819336\n",
      "epoch 100 hoa: 36.151771545410156\n",
      "epoch 150 hoa: 36.74626922607422\n",
      "epoch 200 hoa: 40.28852844238281\n",
      "epoch 50 hoa: 34.639617919921875\n",
      "epoch 100 hoa: 39.5932731628418\n",
      "epoch 150 hoa: 38.41674041748047\n",
      "epoch 200 hoa: 38.901981353759766\n",
      "epoch 50 hoa: 36.133514404296875\n",
      "epoch 100 hoa: 38.446533203125\n",
      "epoch 150 hoa: 39.49254608154297\n",
      "epoch 200 hoa: 39.349769592285156\n",
      "epoch 50 hoa: 30.917619705200195\n",
      "epoch 100 hoa: 36.1853141784668\n",
      "epoch 150 hoa: 41.64917755126953\n",
      "epoch 200 hoa: 41.55272674560547\n",
      "epoch 50 hoa: 32.832157135009766\n",
      "epoch 100 hoa: 36.30155944824219\n",
      "epoch 150 hoa: 37.7628173828125\n",
      "epoch 200 hoa: 39.39088439941406\n",
      "epoch 50 hoa: 35.909297943115234\n",
      "epoch 100 hoa: 38.34014129638672\n",
      "epoch 150 hoa: 38.161842346191406\n",
      "epoch 200 hoa: 38.541133880615234\n",
      "avg number of sub Als 7.0 expected Als 7\n",
      "avg number of starting Als 4.1875\n",
      "epoch 50 hoa: 36.40990447998047\n",
      "epoch 100 hoa: 39.20383834838867\n",
      "epoch 150 hoa: 40.79786682128906\n",
      "epoch 200 hoa: 41.86616134643555\n",
      "epoch 50 hoa: 39.520328521728516\n",
      "epoch 100 hoa: 40.243690490722656\n",
      "epoch 150 hoa: 40.243690490722656\n",
      "epoch 200 hoa: 41.050819396972656\n",
      "epoch 50 hoa: 34.83518600463867\n",
      "epoch 100 hoa: 40.56873321533203\n",
      "epoch 150 hoa: 42.6528205871582\n",
      "epoch 200 hoa: 41.94591522216797\n",
      "epoch 50 hoa: 36.42948913574219\n",
      "epoch 100 hoa: 42.413818359375\n",
      "epoch 150 hoa: 43.79545211791992\n",
      "epoch 200 hoa: 43.79545593261719\n",
      "epoch 50 hoa: 30.350875854492188\n",
      "epoch 100 hoa: 36.91057586669922\n",
      "epoch 150 hoa: 40.670692443847656\n",
      "epoch 200 hoa: 40.43862533569336\n",
      "epoch 50 hoa: 33.650108337402344\n",
      "epoch 100 hoa: 39.74459457397461\n",
      "epoch 150 hoa: 43.148468017578125\n",
      "epoch 200 hoa: 43.148468017578125\n",
      "epoch 50 hoa: 33.057167053222656\n",
      "epoch 100 hoa: 35.32872009277344\n",
      "epoch 150 hoa: 35.84766387939453\n",
      "epoch 200 hoa: 38.56050109863281\n",
      "epoch 50 hoa: 27.776939392089844\n",
      "epoch 100 hoa: 38.686065673828125\n",
      "epoch 150 hoa: 40.576881408691406\n",
      "epoch 200 hoa: 41.401756286621094\n",
      "avg number of sub Als 8.0 expected Als 8\n",
      "avg number of starting Als 4.25\n",
      "epoch 50 hoa: 35.49797821044922\n",
      "epoch 100 hoa: 43.639678955078125\n",
      "epoch 150 hoa: 44.177711486816406\n",
      "epoch 200 hoa: 43.95702362060547\n",
      "epoch 50 hoa: 32.406150817871094\n",
      "epoch 100 hoa: 35.46397399902344\n",
      "epoch 150 hoa: 40.28938293457031\n",
      "epoch 200 hoa: 43.468807220458984\n",
      "epoch 50 hoa: 34.13611602783203\n",
      "epoch 100 hoa: 38.60296630859375\n",
      "epoch 150 hoa: 43.23992919921875\n",
      "epoch 200 hoa: 44.37883377075195\n",
      "epoch 50 hoa: 34.26523208618164\n",
      "epoch 100 hoa: 38.57087326049805\n",
      "epoch 150 hoa: 39.51637268066406\n",
      "epoch 200 hoa: 44.025901794433594\n",
      "epoch 50 hoa: 35.58583450317383\n",
      "epoch 100 hoa: 42.41635513305664\n",
      "epoch 150 hoa: 44.03460693359375\n",
      "epoch 200 hoa: 44.60398864746094\n",
      "epoch 50 hoa: 38.02906799316406\n",
      "epoch 100 hoa: 40.33473205566406\n",
      "epoch 150 hoa: 42.36206817626953\n",
      "epoch 200 hoa: 43.62012481689453\n",
      "epoch 50 hoa: 34.21765899658203\n",
      "epoch 100 hoa: 40.10194396972656\n",
      "epoch 150 hoa: 41.046791076660156\n",
      "epoch 200 hoa: 43.173404693603516\n",
      "epoch 50 hoa: 33.078102111816406\n",
      "epoch 100 hoa: 34.548057556152344\n",
      "epoch 150 hoa: 36.412757873535156\n",
      "epoch 200 hoa: 43.14616394042969\n",
      "avg number of sub Als 9.0 expected Als 9\n",
      "avg number of starting Als 4.8125\n",
      "epoch 50 hoa: 37.41546630859375\n",
      "epoch 100 hoa: 43.423370361328125\n",
      "epoch 150 hoa: 43.423370361328125\n",
      "epoch 200 hoa: 43.423370361328125\n",
      "epoch 50 hoa: 34.30043029785156\n",
      "epoch 100 hoa: 39.30493927001953\n",
      "epoch 150 hoa: 45.272369384765625\n",
      "epoch 200 hoa: 44.458492279052734\n",
      "epoch 50 hoa: 39.075748443603516\n",
      "epoch 100 hoa: 43.179901123046875\n",
      "epoch 150 hoa: 43.179901123046875\n",
      "epoch 200 hoa: 43.179901123046875\n",
      "epoch 50 hoa: 32.54906463623047\n",
      "epoch 100 hoa: 41.66118240356445\n",
      "epoch 150 hoa: 44.20375442504883\n",
      "epoch 200 hoa: 44.88756561279297\n",
      "epoch 50 hoa: 35.29650115966797\n",
      "epoch 100 hoa: 39.406883239746094\n",
      "epoch 150 hoa: 41.53257369995117\n",
      "epoch 200 hoa: 43.063079833984375\n",
      "epoch 50 hoa: 38.38495635986328\n",
      "epoch 100 hoa: 45.224761962890625\n",
      "epoch 150 hoa: 46.13957977294922\n",
      "epoch 200 hoa: 45.321533203125\n",
      "epoch 50 hoa: 31.902198791503906\n",
      "epoch 100 hoa: 34.182777404785156\n",
      "epoch 150 hoa: 36.510963439941406\n",
      "epoch 200 hoa: 37.11376190185547\n",
      "epoch 50 hoa: 38.06379318237305\n",
      "epoch 100 hoa: 40.51913070678711\n",
      "epoch 150 hoa: 42.123809814453125\n",
      "epoch 200 hoa: 42.916595458984375\n",
      "avg number of sub Als 9.625 expected Als 10\n",
      "avg number of starting Als 5.9375\n",
      "epoch 50 hoa: 35.33528137207031\n",
      "epoch 100 hoa: 46.127071380615234\n",
      "epoch 150 hoa: 47.519142150878906\n",
      "epoch 200 hoa: 47.51913833618164\n",
      "epoch 50 hoa: 35.175384521484375\n",
      "epoch 100 hoa: 39.34959411621094\n",
      "epoch 150 hoa: 43.43007278442383\n",
      "epoch 200 hoa: 45.302921295166016\n",
      "epoch 50 hoa: 37.36952209472656\n",
      "epoch 100 hoa: 45.16127014160156\n",
      "epoch 150 hoa: 46.02427673339844\n",
      "epoch 200 hoa: 46.02427673339844\n",
      "epoch 50 hoa: 34.70455551147461\n",
      "epoch 100 hoa: 43.17197036743164\n",
      "epoch 150 hoa: 43.39257049560547\n",
      "epoch 200 hoa: 44.44744110107422\n",
      "epoch 50 hoa: 35.55583190917969\n",
      "epoch 100 hoa: 42.416419982910156\n",
      "epoch 150 hoa: 43.59366226196289\n",
      "epoch 200 hoa: 43.675933837890625\n",
      "epoch 50 hoa: 38.80637741088867\n",
      "epoch 100 hoa: 44.0517578125\n",
      "epoch 150 hoa: 43.5923957824707\n",
      "epoch 200 hoa: 45.050270080566406\n",
      "epoch 50 hoa: 36.150264739990234\n",
      "epoch 100 hoa: 39.51011657714844\n",
      "epoch 150 hoa: 42.60286331176758\n",
      "epoch 200 hoa: 43.89447021484375\n",
      "epoch 50 hoa: 35.138423919677734\n",
      "epoch 100 hoa: 42.51341247558594\n",
      "epoch 150 hoa: 45.24641418457031\n",
      "epoch 200 hoa: 45.419498443603516\n",
      "avg number of sub Als 11.0 expected Als 11\n",
      "avg number of starting Als 6.5625\n",
      "epoch 50 hoa: 35.021446228027344\n",
      "epoch 100 hoa: 41.83073425292969\n",
      "epoch 150 hoa: 43.683937072753906\n",
      "epoch 200 hoa: 44.33915710449219\n",
      "epoch 50 hoa: 39.48396682739258\n",
      "epoch 100 hoa: 45.746498107910156\n",
      "epoch 150 hoa: 47.138038635253906\n",
      "epoch 200 hoa: 46.839088439941406\n",
      "epoch 50 hoa: 38.39564895629883\n",
      "epoch 100 hoa: 46.108978271484375\n",
      "epoch 150 hoa: 47.823036193847656\n",
      "epoch 200 hoa: 47.82304000854492\n",
      "epoch 50 hoa: 38.288185119628906\n",
      "epoch 100 hoa: 44.19040298461914\n",
      "epoch 150 hoa: 44.07936096191406\n",
      "epoch 200 hoa: 44.274864196777344\n",
      "epoch 50 hoa: 38.728397369384766\n",
      "epoch 100 hoa: 41.246063232421875\n",
      "epoch 150 hoa: 45.860836029052734\n",
      "epoch 200 hoa: 46.27410888671875\n",
      "epoch 50 hoa: 36.492855072021484\n",
      "epoch 100 hoa: 46.451011657714844\n",
      "epoch 150 hoa: 46.000038146972656\n",
      "epoch 200 hoa: 45.80827331542969\n",
      "epoch 50 hoa: 39.59579086303711\n",
      "epoch 100 hoa: 45.70304870605469\n",
      "epoch 150 hoa: 46.42830276489258\n",
      "epoch 200 hoa: 45.693443298339844\n",
      "epoch 50 hoa: 38.56610870361328\n",
      "epoch 100 hoa: 47.10554504394531\n",
      "epoch 150 hoa: 47.17573547363281\n",
      "epoch 200 hoa: 46.71295166015625\n",
      "avg number of sub Als 12.0 expected Als 12\n",
      "avg number of starting Als 6.25\n",
      "epoch 50 hoa: 37.126468658447266\n",
      "epoch 100 hoa: 43.81330108642578\n",
      "epoch 150 hoa: 45.591407775878906\n",
      "epoch 200 hoa: 46.702735900878906\n",
      "epoch 50 hoa: 39.28272247314453\n",
      "epoch 100 hoa: 48.444480895996094\n",
      "epoch 150 hoa: 48.14929962158203\n",
      "epoch 200 hoa: 48.08165740966797\n",
      "epoch 50 hoa: 36.72391128540039\n",
      "epoch 100 hoa: 45.772254943847656\n",
      "epoch 150 hoa: 45.213172912597656\n",
      "epoch 200 hoa: 46.461143493652344\n",
      "epoch 50 hoa: 36.6012077331543\n",
      "epoch 100 hoa: 43.81156539916992\n",
      "epoch 150 hoa: 44.19548797607422\n",
      "epoch 200 hoa: 45.34423065185547\n",
      "epoch 50 hoa: 36.121681213378906\n",
      "epoch 100 hoa: 44.752098083496094\n",
      "epoch 150 hoa: 48.15132141113281\n",
      "epoch 200 hoa: 48.19389724731445\n",
      "epoch 50 hoa: 36.610435485839844\n",
      "epoch 100 hoa: 45.07700729370117\n",
      "epoch 150 hoa: 45.20215606689453\n",
      "epoch 200 hoa: 45.3513298034668\n",
      "epoch 50 hoa: 34.57960891723633\n",
      "epoch 100 hoa: 44.95060729980469\n",
      "epoch 150 hoa: 44.99497604370117\n",
      "epoch 200 hoa: 46.25121307373047\n",
      "epoch 50 hoa: 42.16521453857422\n",
      "epoch 100 hoa: 45.66587448120117\n",
      "epoch 150 hoa: 47.04372787475586\n",
      "epoch 200 hoa: 47.97336959838867\n",
      "avg number of sub Als 13.0 expected Als 13\n",
      "avg number of starting Als 7.75\n",
      "epoch 50 hoa: 40.0052604675293\n",
      "epoch 100 hoa: 48.12700653076172\n",
      "epoch 150 hoa: 49.03593444824219\n",
      "epoch 200 hoa: 48.102073669433594\n",
      "epoch 50 hoa: 41.69620895385742\n",
      "epoch 100 hoa: 45.59559631347656\n",
      "epoch 150 hoa: 46.15648651123047\n",
      "epoch 200 hoa: 47.790191650390625\n",
      "epoch 50 hoa: 35.85865020751953\n",
      "epoch 100 hoa: 46.46330261230469\n",
      "epoch 150 hoa: 47.57386779785156\n",
      "epoch 200 hoa: 48.7484245300293\n",
      "epoch 50 hoa: 38.30096435546875\n",
      "epoch 100 hoa: 47.33153533935547\n",
      "epoch 150 hoa: 47.89274597167969\n",
      "epoch 200 hoa: 47.91910934448242\n",
      "epoch 50 hoa: 40.470603942871094\n",
      "epoch 100 hoa: 46.682289123535156\n",
      "epoch 150 hoa: 48.39142608642578\n",
      "epoch 200 hoa: 48.39142608642578\n",
      "epoch 50 hoa: 39.8370246887207\n",
      "epoch 100 hoa: 46.30840301513672\n",
      "epoch 150 hoa: 47.58027648925781\n",
      "epoch 200 hoa: 47.58027648925781\n",
      "epoch 50 hoa: 35.697975158691406\n",
      "epoch 100 hoa: 43.0924072265625\n",
      "epoch 150 hoa: 47.11307907104492\n",
      "epoch 200 hoa: 48.028892517089844\n",
      "epoch 50 hoa: 41.24833679199219\n",
      "epoch 100 hoa: 48.061004638671875\n",
      "epoch 150 hoa: 47.56437683105469\n",
      "epoch 200 hoa: 47.56437683105469\n",
      "avg number of sub Als 14.0 expected Als 14\n",
      "avg number of starting Als 6.375\n",
      "epoch 50 hoa: 41.380157470703125\n",
      "epoch 100 hoa: 48.58839416503906\n",
      "epoch 150 hoa: 48.717506408691406\n",
      "epoch 200 hoa: 48.64994812011719\n",
      "epoch 50 hoa: 37.82564926147461\n",
      "epoch 100 hoa: 45.587745666503906\n",
      "epoch 150 hoa: 48.437896728515625\n",
      "epoch 200 hoa: 48.19718933105469\n",
      "epoch 50 hoa: 39.05255889892578\n",
      "epoch 100 hoa: 48.356719970703125\n",
      "epoch 150 hoa: 48.24342346191406\n",
      "epoch 200 hoa: 48.2905158996582\n",
      "epoch 50 hoa: 38.25284194946289\n",
      "epoch 100 hoa: 45.57666015625\n",
      "epoch 150 hoa: 46.9510498046875\n",
      "epoch 200 hoa: 47.91336441040039\n",
      "epoch 50 hoa: 37.61826705932617\n",
      "epoch 100 hoa: 47.412574768066406\n",
      "epoch 150 hoa: 48.99931335449219\n",
      "epoch 200 hoa: 49.615631103515625\n",
      "epoch 50 hoa: 33.800880432128906\n",
      "epoch 100 hoa: 45.46947479248047\n",
      "epoch 150 hoa: 47.93827819824219\n",
      "epoch 200 hoa: 49.755035400390625\n",
      "epoch 50 hoa: 34.79082489013672\n",
      "epoch 100 hoa: 43.61341857910156\n",
      "epoch 150 hoa: 46.18091583251953\n",
      "epoch 200 hoa: 47.5586051940918\n",
      "epoch 50 hoa: 38.55525207519531\n",
      "epoch 100 hoa: 46.683555603027344\n",
      "epoch 150 hoa: 48.010921478271484\n",
      "epoch 200 hoa: 48.20986557006836\n",
      "avg number of sub Als 15.0 expected Als 15\n",
      "avg number of starting Als 7.0625\n",
      "epoch 50 hoa: 41.319793701171875\n",
      "epoch 100 hoa: 48.787208557128906\n",
      "epoch 150 hoa: 49.02952575683594\n",
      "epoch 200 hoa: 50.33076095581055\n",
      "epoch 50 hoa: 36.845481872558594\n",
      "epoch 100 hoa: 46.177734375\n",
      "epoch 150 hoa: 48.6949577331543\n",
      "epoch 200 hoa: 49.40264129638672\n",
      "epoch 50 hoa: 41.820518493652344\n",
      "epoch 100 hoa: 48.973480224609375\n",
      "epoch 150 hoa: 49.64063262939453\n",
      "epoch 200 hoa: 49.801231384277344\n",
      "epoch 50 hoa: 39.51567077636719\n",
      "epoch 100 hoa: 49.83153533935547\n",
      "epoch 150 hoa: 51.11774444580078\n",
      "epoch 200 hoa: 50.871429443359375\n",
      "epoch 50 hoa: 35.2280158996582\n",
      "epoch 100 hoa: 46.732810974121094\n",
      "epoch 150 hoa: 49.544219970703125\n",
      "epoch 200 hoa: 50.30085372924805\n",
      "epoch 50 hoa: 39.04542541503906\n",
      "epoch 100 hoa: 48.103485107421875\n",
      "epoch 150 hoa: 49.31071472167969\n",
      "epoch 200 hoa: 50.2116584777832\n",
      "epoch 50 hoa: 37.73723602294922\n",
      "epoch 100 hoa: 48.08390808105469\n",
      "epoch 150 hoa: 49.748321533203125\n",
      "epoch 200 hoa: 49.2646484375\n",
      "epoch 50 hoa: 36.67302703857422\n",
      "epoch 100 hoa: 41.88043975830078\n",
      "epoch 150 hoa: 45.1193962097168\n",
      "epoch 200 hoa: 48.520545959472656\n",
      "avg number of sub Als 16.0 expected Als 16\n",
      "avg number of starting Als 8.875\n",
      "epoch 50 hoa: 43.858516693115234\n",
      "epoch 100 hoa: 49.15357208251953\n",
      "epoch 150 hoa: 49.11711120605469\n",
      "epoch 200 hoa: 50.72390365600586\n",
      "epoch 50 hoa: 42.85071563720703\n",
      "epoch 100 hoa: 52.009490966796875\n",
      "epoch 150 hoa: 51.9541130065918\n",
      "epoch 200 hoa: 51.87627029418945\n",
      "epoch 50 hoa: 36.9197998046875\n",
      "epoch 100 hoa: 45.42047119140625\n",
      "epoch 150 hoa: 46.354469299316406\n",
      "epoch 200 hoa: 48.62453079223633\n",
      "epoch 50 hoa: 44.537872314453125\n",
      "epoch 100 hoa: 50.72686767578125\n",
      "epoch 150 hoa: 49.59009552001953\n",
      "epoch 200 hoa: 48.820953369140625\n",
      "epoch 50 hoa: 40.971214294433594\n",
      "epoch 100 hoa: 50.713417053222656\n",
      "epoch 150 hoa: 52.27312469482422\n",
      "epoch 200 hoa: 51.946937561035156\n",
      "epoch 50 hoa: 38.91429901123047\n",
      "epoch 100 hoa: 46.05244445800781\n",
      "epoch 150 hoa: 47.12708282470703\n",
      "epoch 200 hoa: 48.720298767089844\n",
      "epoch 50 hoa: 41.31002426147461\n",
      "epoch 100 hoa: 49.218441009521484\n",
      "epoch 150 hoa: 50.801475524902344\n",
      "epoch 200 hoa: 50.530799865722656\n",
      "epoch 50 hoa: 40.350990295410156\n",
      "epoch 100 hoa: 51.949867248535156\n",
      "epoch 150 hoa: 51.55282211303711\n",
      "epoch 200 hoa: 51.02515411376953\n",
      "avg number of sub Als 17.0 expected Als 17\n"
     ]
    }
   ],
   "source": [
    "n = 16\n",
    "epochs = 200\n",
    "for i in range(6,18):\n",
    "    \n",
    "    ats = torch.zeros((n,48,1))\n",
    "    y_hats = torch.zeros((epochs+1, n))\n",
    "    \n",
    "    ats0= torch.rand((n,48,1))\n",
    "    \n",
    "    pr = i*1/96 \n",
    "    \n",
    "    ats1 = torch.where(ats0 < pr, .9, .1)\n",
    "    print('avg number of starting Als', ats1.round().sum((1,2)).float().mean().item())\n",
    "    \n",
    "    for j in range(int(n/2)):\n",
    "    \n",
    "        h_max = hoa_maximizer(edges, edges_sp, edges_ps, torch.tensor(pore), atoms=ats1[2*j:2*(j+1)].float().cuda())\n",
    "        _ats, _y_hats = h_max.optimize(mpnn, epochs, 50, i)\n",
    "        \n",
    "        ats[2*j:2*(j+1)] = _ats\n",
    "        y_hats[:, 2*j:2*(j+1)] = torch.tensor(_y_hats)\n",
    "\n",
    "    print('avg number of sub Als', ats.round().sum((1,2)).mean().item(), 'expected Als', i)\n",
    "    \n",
    "    opt_dict[i] = [ats, y_hats]"
   ]
  },
  {
   "cell_type": "code",
   "execution_count": 489,
   "id": "9d57535e-6183-4a55-adf2-f5fb745df6c3",
   "metadata": {},
   "outputs": [
    {
     "name": "stdout",
     "output_type": "stream",
     "text": [
      "tensor(43.1413)\n",
      "tensor(42.7871)\n",
      "tensor(46.9894)\n",
      "tensor(47.0900)\n",
      "tensor(47.1067)\n",
      "tensor(47.5952)\n",
      "tensor(49.5412)\n",
      "tensor(48.9172)\n",
      "tensor(50.4127)\n",
      "tensor(50.5359)\n",
      "tensor(53.1147)\n",
      "tensor(53.9814)\n"
     ]
    }
   ],
   "source": [
    "for i in opt_dict:\n",
    "    \n",
    "    print(opt_dict[i][1].max())"
   ]
  },
  {
   "cell_type": "code",
   "execution_count": 335,
   "id": "e3f76be2-d068-43db-b875-e18faae9f3bc",
   "metadata": {},
   "outputs": [
    {
     "name": "stdout",
     "output_type": "stream",
     "text": [
      "tensor([6, 5])\n"
     ]
    }
   ],
   "source": [
    "ats0= torch.rand((2,48,1))\n",
    "ats1 = torch.where(ats0 < .1, 1, 0)\n",
    "print(ats1.sum((1,2)))"
   ]
  },
  {
   "cell_type": "code",
   "execution_count": 336,
   "id": "f98c00c9-d4a0-45ac-9989-4420707ce764",
   "metadata": {},
   "outputs": [],
   "source": [
    "h_max = hoa_maximizer(edges, edges_sp, edges_ps, torch.tensor(pore), atoms=ats1.float().cuda())"
   ]
  },
  {
   "cell_type": "code",
   "execution_count": 337,
   "id": "910d8ed8-30cd-40cf-a0d4-d628b258d40e",
   "metadata": {},
   "outputs": [
    {
     "data": {
      "text/plain": [
       "torch.Size([2, 48, 1])"
      ]
     },
     "execution_count": 337,
     "metadata": {},
     "output_type": "execute_result"
    }
   ],
   "source": [
    "h_max.atoms.shape"
   ]
  },
  {
   "cell_type": "code",
   "execution_count": 338,
   "id": "397cdd75-9bac-4f60-8cc2-599a63bab717",
   "metadata": {},
   "outputs": [
    {
     "name": "stdout",
     "output_type": "stream",
     "text": [
      "epoch  5 hoa: 37.29650115966797\n",
      "epoch 10 hoa: 37.29650115966797\n",
      "epoch 15 hoa: 37.29650115966797\n",
      "epoch 20 hoa: 37.29650115966797\n",
      "epoch 25 hoa: 37.29650115966797\n",
      "epoch 30 hoa: 37.29650115966797\n",
      "epoch 35 hoa: 37.29650115966797\n",
      "epoch 40 hoa: 37.29650115966797\n",
      "epoch 45 hoa: 37.29650115966797\n",
      "epoch 50 hoa: 37.29650115966797\n",
      "epoch 55 hoa: 49.32270812988281\n",
      "epoch 60 hoa: 45.44495391845703\n",
      "epoch 65 hoa: 46.43492889404297\n",
      "epoch 70 hoa: 47.11254119873047\n",
      "epoch 75 hoa: 48.36158752441406\n",
      "epoch 80 hoa: 49.462223052978516\n",
      "epoch 85 hoa: 48.36158752441406\n",
      "epoch 90 hoa: 47.5235595703125\n",
      "epoch 95 hoa: 49.462223052978516\n",
      "epoch 100 hoa: 48.01655578613281\n",
      "epoch 105 hoa: 48.854591369628906\n",
      "epoch 110 hoa: 48.62419128417969\n",
      "epoch 115 hoa: 48.854591369628906\n",
      "epoch 120 hoa: 49.622474670410156\n",
      "epoch 125 hoa: 49.01483917236328\n"
     ]
    }
   ],
   "source": [
    "ats, y_hats = h_max.optimize(mpnn, 125, 5)"
   ]
  },
  {
   "cell_type": "code",
   "execution_count": 339,
   "id": "6fd8edbd-0b70-45cb-b66b-ea4ff5eb8efa",
   "metadata": {},
   "outputs": [
    {
     "data": {
      "text/plain": [
       "tensor(9.2023, device='cuda:0')"
      ]
     },
     "execution_count": 339,
     "metadata": {},
     "output_type": "execute_result"
    }
   ],
   "source": [
    "ats[0].sum()"
   ]
  },
  {
   "cell_type": "code",
   "execution_count": 340,
   "id": "9b9eb1d9-a7a3-49f4-91de-35547b85c713",
   "metadata": {},
   "outputs": [
    {
     "data": {
      "text/plain": [
       "(0.0, 100.0)"
      ]
     },
     "execution_count": 340,
     "metadata": {},
     "output_type": "execute_result"
    },
    {
     "data": {
      "image/png": "[encoded data removed]",
      "text/plain": [
       "<Figure size 640x480 with 1 Axes>"
      ]
     },
     "metadata": {},
     "output_type": "display_data"
    }
   ],
   "source": [
    "for i in range(y_hats.shape[1]):\n",
    "    \n",
    "    plt.plot(y_hats[:,i])\n",
    "\n",
    "plt.ylim(0,100)"
   ]
  },
  {
   "cell_type": "code",
   "execution_count": null,
   "id": "03c5cbde-f302-4dbc-8675-0b96ee072fdb",
   "metadata": {},
   "outputs": [],
   "source": []
  },
  {
   "cell_type": "code",
   "execution_count": null,
   "id": "adebdc0b-836a-4e61-bfaf-e7c25cee2722",
   "metadata": {},
   "outputs": [],
   "source": []
  },
  {
   "cell_type": "code",
   "execution_count": 341,
   "id": "a15d028c-0354-477d-90a9-a405a63b0176",
   "metadata": {},
   "outputs": [
    {
     "data": {
      "text/plain": [
       "tensor(51.0956, dtype=torch.float64)"
      ]
     },
     "execution_count": 341,
     "metadata": {},
     "output_type": "execute_result"
    }
   ],
   "source": [
    "testloader.dataset.y.amax()"
   ]
  },
  {
   "cell_type": "code",
   "execution_count": null,
   "id": "dcb0ae4a-3eaa-4d94-8594-516e4d878b07",
   "metadata": {},
   "outputs": [],
   "source": []
  }
 ],
 "metadata": {
  "kernelspec": {
   "display_name": "Python 3 (ipykernel)",
   "language": "python",
   "name": "python3"
  },
  "language_info": {
   "codemirror_mode": {
    "name": "ipython",
    "version": 3
   },
   "file_extension": ".py",
   "mimetype": "text/x-python",
   "name": "python",
   "nbconvert_exporter": "python",
   "pygments_lexer": "ipython3",
   "version": "3.8.16"
  }
 },
 "nbformat": 4,
 "nbformat_minor": 5
}
